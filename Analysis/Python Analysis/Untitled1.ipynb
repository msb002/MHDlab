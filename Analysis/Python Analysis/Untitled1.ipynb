{
 "cells": [
  {
   "cell_type": "code",
   "execution_count": 13,
   "metadata": {},
   "outputs": [],
   "source": [
    "import datetime as dt\n",
    "import numpy as np\n",
    "from time import sleep"
   ]
  },
  {
   "cell_type": "code",
   "execution_count": 37,
   "metadata": {},
   "outputs": [],
   "source": [
    "a = np.linspace(0,100, 20)"
   ]
  },
  {
   "cell_type": "code",
   "execution_count": 28,
   "metadata": {},
   "outputs": [],
   "source": [
    "def nap():\n",
    "    sleep(np.random.randint(8,12))"
   ]
  },
  {
   "cell_type": "code",
   "execution_count": 47,
   "metadata": {},
   "outputs": [
    {
     "name": "stdout",
     "output_type": "stream",
     "text": [
      "eta = 2018-09-20 17:12:36.705737\n",
      "eta = 2018-09-20 17:15:56.685737\n",
      "eta = 2018-09-20 17:15:56.685737\n",
      "eta = 2018-09-20 17:15:20.685737\n",
      "eta = 2018-09-20 17:15:20.685737\n",
      "eta = 2018-09-20 17:16:08.685737\n",
      "eta = 2018-09-20 17:15:53.685737\n",
      "eta = 2018-09-20 17:15:53.685737\n",
      "eta = 2018-09-20 17:15:40.685737\n",
      "eta = 2018-09-20 17:16:04.685737\n",
      "eta = 2018-09-20 17:15:42.685737\n",
      "eta = 2018-09-20 17:15:42.685737\n",
      "eta = 2018-09-20 17:15:33.685737\n",
      "eta = 2018-09-20 17:15:41.685737\n",
      "eta = 2018-09-20 17:15:34.685737\n",
      "eta = 2018-09-20 17:15:40.685737\n",
      "eta = 2018-09-20 17:15:50.685737\n",
      "eta = 2018-09-20 17:15:50.685737\n",
      "eta = 2018-09-20 17:15:47.685737\n",
      "eta = 2018-09-20 17:15:45.685737\n"
     ]
    }
   ],
   "source": [
    "runtime = []\n",
    "rightnow = dt.datetime.now()\n",
    "for i, val in enumerate(a):\n",
    "    deltat = dt.datetime.now()-rightnow\n",
    "    rightnow = dt.datetime.now()\n",
    "    eta = dt.datetime.now() + (len(a)-i)*deltat\n",
    "    print('eta = ' + str(eta))\n",
    "    nap()\n",
    "    runtime.append([rightnow, deltat.total_seconds()])\n"
   ]
  },
  {
   "cell_type": "code",
   "execution_count": 35,
   "metadata": {},
   "outputs": [
    {
     "name": "stdout",
     "output_type": "stream",
     "text": [
      "2018-09-20 17:04:16.410737\n",
      "2018-09-20 17:04:17.410737\n"
     ]
    }
   ],
   "source": [
    "for i in a:\n",
    "    print(dt.datetime.now())\n",
    "    sleep(np.random.randint(1,4))\n",
    "    print(dt.datetime.now())"
   ]
  },
  {
   "cell_type": "code",
   "execution_count": 40,
   "metadata": {},
   "outputs": [],
   "source": [
    "import matplotlib as mpl\n",
    "import matplotlib.pyplot as plt\n",
    "%matplotlib inline"
   ]
  },
  {
   "cell_type": "code",
   "execution_count": 48,
   "metadata": {
    "collapsed": true
   },
   "outputs": [],
   "source": [
    "runtime = np.array(runtime)"
   ]
  },
  {
   "cell_type": "code",
   "execution_count": 50,
   "metadata": {},
   "outputs": [
    {
     "data": {
      "text/plain": [
       "[<matplotlib.lines.Line2D at 0x8c67c88>]"
      ]
     },
     "execution_count": 50,
     "metadata": {},
     "output_type": "execute_result"
    },
    {
     "data": {
      "image/png": "[encoded data removed]",
      "text/plain": [
       "<matplotlib.figure.Figure at 0x84fbe48>"
      ]
     },
     "metadata": {},
     "output_type": "display_data"
    }
   ],
   "source": [
    "plt.plot(runtime[:,1])"
   ]
  },
  {
   "cell_type": "code",
   "execution_count": null,
   "metadata": {
    "collapsed": true
   },
   "outputs": [],
   "source": []
  }
 ],
 "metadata": {
  "kernelspec": {
   "display_name": "Python 3",
   "language": "python",
   "name": "python3"
  }
 },
 "nbformat": 4,
 "nbformat_minor": 2
}
