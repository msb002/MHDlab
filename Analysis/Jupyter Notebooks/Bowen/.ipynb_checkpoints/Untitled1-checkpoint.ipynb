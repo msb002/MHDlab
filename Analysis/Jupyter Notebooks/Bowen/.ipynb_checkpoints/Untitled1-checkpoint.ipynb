{
 "cells": [
  {
   "cell_type": "code",
   "execution_count": 8,
   "metadata": {},
   "outputs": [],
   "source": [
    "from mhdpy import *\n",
    "from nptdms import TdmsFile as TF"
   ]
  },
  {
   "cell_type": "code",
   "execution_count": 13,
   "metadata": {},
   "outputs": [],
   "source": [
    "T = [1039, 1050, 1096, 1145, 1180, 1200]\n",
    "Spcm = ['Flame', 'NIRQuest512']\n",
    "filenames = []\n",
    "for t in T:\n",
    "    for s in Spcm:\n",
    "        filenames.append((s+'_'+str(t)+'C.tdms'))\n",
    "\n",
    "path = 'Z:\\\\Test Data\\\\Raw Data\\\\Materials Testing\\\\2018-10-15\\\\UnspecifiedProj\\\\Measure\\\\'"
   ]
  },
  {
   "cell_type": "code",
   "execution_count": 14,
   "metadata": {},
   "outputs": [
    {
     "data": {
      "text/plain": [
       "<nptdms.tdms.TdmsFile at 0x88d8908>"
      ]
     },
     "execution_count": 14,
     "metadata": {},
     "output_type": "execute_result"
    }
   ],
   "source": [
    "TF(path+filenames[1])"
   ]
  },
  {
   "cell_type": "code",
   "execution_count": null,
   "metadata": {
    "collapsed": true
   },
   "outputs": [],
   "source": []
  }
 ],
 "metadata": {
  "kernelspec": {
   "display_name": "Python 3",
   "language": "python",
   "name": "python3"
  },
  "language_info": {
   "codemirror_mode": {
    "name": "ipython",
    "version": 3
   },
   "file_extension": ".py",
   "mimetype": "text/x-python",
   "name": "python",
   "nbconvert_exporter": "python",
   "pygments_lexer": "ipython3",
   "version": "3.6.3"
  }
 },
 "nbformat": 4,
 "nbformat_minor": 2
}
