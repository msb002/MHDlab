{
 "cells": [
  {
   "cell_type": "code",
   "execution_count": 3,
   "metadata": {
    "collapsed": true
   },
   "outputs": [],
   "source": [
    "from nptdms import TdmsFile as TF\n",
    "import numpy as np\n",
    "import matplotlib as mpl\n",
    "import matplotlib.pyplot as plt\n",
    "from matplotlib import animation\n",
    "import pandas as pd\n",
    "import datetime as dt\n",
    "%matplotlib inline"
   ]
  },
  {
   "cell_type": "code",
   "execution_count": 5,
   "metadata": {},
   "outputs": [],
   "source": [
    "file = TF(\"E:\\\\Data\\\\MolyRod\\\\MolyA\\\\13mm_together.tdms\")\n",
    "wlf = TF(\"E:\\\\Data\\\\MolyRod\\\\MolyA\\\\13mm_Spectrometer.tdms\")"
   ]
  },
  {
   "cell_type": "code",
   "execution_count": 6,
   "metadata": {
    "collapsed": true
   },
   "outputs": [],
   "source": [
    "NIR = file.object(\"NIR_MP1_Norm\").as_dataframe()\n",
    "wls = wlf.object('Global', 'NIR_Wavelength').data\n",
    "t = NIR['Time']\n",
    "NIR = NIR.drop('Time', axis = 1)\n",
    "df = NIR[:512]\n",
    "df.columns = t\n",
    "Trt = file.object(\"Spectrometer\").as_dataframe()\n",
    "Trt2 = wlf.object('Temperature').as_dataframe()"
   ]
  },
  {
   "cell_type": "code",
   "execution_count": 7,
   "metadata": {
    "collapsed": true,
    "scrolled": false
   },
   "outputs": [],
   "source": [
    "df.index = wls"
   ]
  },
  {
   "cell_type": "code",
   "execution_count": 26,
   "metadata": {},
   "outputs": [
    {
     "data": {
      "text/plain": [
       "Timestamp('2018-01-04 19:10:09.254175+0000', tz='UTC')"
      ]
     },
     "execution_count": 26,
     "metadata": {},
     "output_type": "execute_result"
    }
   ],
   "source": [
    "df.columns[5000]"
   ]
  },
  {
   "cell_type": "code",
   "execution_count": 25,
   "metadata": {},
   "outputs": [
    {
     "data": {
      "text/plain": [
       "Text(0,0.5,'Wavelength (nm)')"
      ]
     },
     "execution_count": 25,
     "metadata": {},
     "output_type": "execute_result"
    },
    {
     "data": {
      "image/png": "[encoded data removed]",
      "text/plain": [
       "<matplotlib.figure.Figure at 0x36d34d30>"
      ]
     },
     "metadata": {},
     "output_type": "display_data"
    }
   ],
   "source": [
    "plt.plot(df[df.columns[5000]])\n",
    "plt.title('Molybdenum NIR Spectrum')\n",
    "plt.xlabel('Calibrated Intensity')\n",
    "plt.ylabel('Wavelength (nm)')"
   ]
  },
  {
   "cell_type": "code",
   "execution_count": 24,
   "metadata": {},
   "outputs": [
    {
     "data": {
      "text/plain": [
       "15996"
      ]
     },
     "execution_count": 24,
     "metadata": {},
     "output_type": "execute_result"
    }
   ],
   "source": [
    "df.columns = t\n",
    "len(t)"
   ]
  },
  {
   "cell_type": "code",
   "execution_count": 23,
   "metadata": {},
   "outputs": [
    {
     "ename": "KeyboardInterrupt",
     "evalue": "",
     "output_type": "error",
     "traceback": [
      "\u001b[1;31m---------------------------------------------------------------------------\u001b[0m",
      "\u001b[1;31mKeyboardInterrupt\u001b[0m                         Traceback (most recent call last)",
      "\u001b[1;32m<ipython-input-23-03ddb685e2f2>\u001b[0m in \u001b[0;36m<module>\u001b[1;34m()\u001b[0m\n\u001b[0;32m     18\u001b[0m \u001b[0mmywriter\u001b[0m \u001b[1;33m=\u001b[0m \u001b[0manimation\u001b[0m\u001b[1;33m.\u001b[0m\u001b[0mFFMpegWriter\u001b[0m\u001b[1;33m(\u001b[0m\u001b[0mfps\u001b[0m\u001b[1;33m=\u001b[0m\u001b[1;36m10\u001b[0m\u001b[1;33m,\u001b[0m \u001b[0mbitrate\u001b[0m\u001b[1;33m=\u001b[0m\u001b[1;36m4000\u001b[0m\u001b[1;33m)\u001b[0m\u001b[1;33m\u001b[0m\u001b[0m\n\u001b[0;32m     19\u001b[0m \u001b[1;33m\u001b[0m\u001b[0m\n\u001b[1;32m---> 20\u001b[1;33m \u001b[0manim\u001b[0m\u001b[1;33m.\u001b[0m\u001b[0msave\u001b[0m\u001b[1;33m(\u001b[0m\u001b[1;34m\"Mo.mp4\"\u001b[0m\u001b[1;33m,\u001b[0m \u001b[0mwriter\u001b[0m\u001b[1;33m=\u001b[0m\u001b[0mmywriter\u001b[0m\u001b[1;33m)\u001b[0m\u001b[1;33m\u001b[0m\u001b[0m\n\u001b[0m",
      "\u001b[1;32mC:\\ProgramData\\Anaconda3\\lib\\site-packages\\matplotlib\\animation.py\u001b[0m in \u001b[0;36msave\u001b[1;34m(self, filename, writer, fps, dpi, codec, bitrate, extra_args, metadata, extra_anim, savefig_kwargs)\u001b[0m\n\u001b[0;32m   1257\u001b[0m                     \u001b[1;32mfor\u001b[0m \u001b[0manim\u001b[0m\u001b[1;33m,\u001b[0m \u001b[0md\u001b[0m \u001b[1;32min\u001b[0m \u001b[0mzip\u001b[0m\u001b[1;33m(\u001b[0m\u001b[0mall_anim\u001b[0m\u001b[1;33m,\u001b[0m \u001b[0mdata\u001b[0m\u001b[1;33m)\u001b[0m\u001b[1;33m:\u001b[0m\u001b[1;33m\u001b[0m\u001b[0m\n\u001b[0;32m   1258\u001b[0m                         \u001b[1;31m# TODO: See if turning off blit is really necessary\u001b[0m\u001b[1;33m\u001b[0m\u001b[1;33m\u001b[0m\u001b[0m\n\u001b[1;32m-> 1259\u001b[1;33m                         \u001b[0manim\u001b[0m\u001b[1;33m.\u001b[0m\u001b[0m_draw_next_frame\u001b[0m\u001b[1;33m(\u001b[0m\u001b[0md\u001b[0m\u001b[1;33m,\u001b[0m \u001b[0mblit\u001b[0m\u001b[1;33m=\u001b[0m\u001b[1;32mFalse\u001b[0m\u001b[1;33m)\u001b[0m\u001b[1;33m\u001b[0m\u001b[0m\n\u001b[0m\u001b[0;32m   1260\u001b[0m                     \u001b[0mwriter\u001b[0m\u001b[1;33m.\u001b[0m\u001b[0mgrab_frame\u001b[0m\u001b[1;33m(\u001b[0m\u001b[1;33m**\u001b[0m\u001b[0msavefig_kwargs\u001b[0m\u001b[1;33m)\u001b[0m\u001b[1;33m\u001b[0m\u001b[0m\n\u001b[0;32m   1261\u001b[0m \u001b[1;33m\u001b[0m\u001b[0m\n",
      "\u001b[1;32mC:\\ProgramData\\Anaconda3\\lib\\site-packages\\matplotlib\\animation.py\u001b[0m in \u001b[0;36m_draw_next_frame\u001b[1;34m(self, framedata, blit)\u001b[0m\n\u001b[0;32m   1294\u001b[0m         \u001b[1;31m# post- draw, as well as the drawing of the frame itself.\u001b[0m\u001b[1;33m\u001b[0m\u001b[1;33m\u001b[0m\u001b[0m\n\u001b[0;32m   1295\u001b[0m         \u001b[0mself\u001b[0m\u001b[1;33m.\u001b[0m\u001b[0m_pre_draw\u001b[0m\u001b[1;33m(\u001b[0m\u001b[0mframedata\u001b[0m\u001b[1;33m,\u001b[0m \u001b[0mblit\u001b[0m\u001b[1;33m)\u001b[0m\u001b[1;33m\u001b[0m\u001b[0m\n\u001b[1;32m-> 1296\u001b[1;33m         \u001b[0mself\u001b[0m\u001b[1;33m.\u001b[0m\u001b[0m_draw_frame\u001b[0m\u001b[1;33m(\u001b[0m\u001b[0mframedata\u001b[0m\u001b[1;33m)\u001b[0m\u001b[1;33m\u001b[0m\u001b[0m\n\u001b[0m\u001b[0;32m   1297\u001b[0m         \u001b[0mself\u001b[0m\u001b[1;33m.\u001b[0m\u001b[0m_post_draw\u001b[0m\u001b[1;33m(\u001b[0m\u001b[0mframedata\u001b[0m\u001b[1;33m,\u001b[0m \u001b[0mblit\u001b[0m\u001b[1;33m)\u001b[0m\u001b[1;33m\u001b[0m\u001b[0m\n\u001b[0;32m   1298\u001b[0m \u001b[1;33m\u001b[0m\u001b[0m\n",
      "\u001b[1;32mC:\\ProgramData\\Anaconda3\\lib\\site-packages\\matplotlib\\animation.py\u001b[0m in \u001b[0;36m_draw_frame\u001b[1;34m(self, framedata)\u001b[0m\n\u001b[0;32m   1812\u001b[0m         \u001b[1;31m# Call the func with framedata and args. If blitting is desired,\u001b[0m\u001b[1;33m\u001b[0m\u001b[1;33m\u001b[0m\u001b[0m\n\u001b[0;32m   1813\u001b[0m         \u001b[1;31m# func needs to return a sequence of any artists that were modified.\u001b[0m\u001b[1;33m\u001b[0m\u001b[1;33m\u001b[0m\u001b[0m\n\u001b[1;32m-> 1814\u001b[1;33m         \u001b[0mself\u001b[0m\u001b[1;33m.\u001b[0m\u001b[0m_drawn_artists\u001b[0m \u001b[1;33m=\u001b[0m \u001b[0mself\u001b[0m\u001b[1;33m.\u001b[0m\u001b[0m_func\u001b[0m\u001b[1;33m(\u001b[0m\u001b[0mframedata\u001b[0m\u001b[1;33m,\u001b[0m \u001b[1;33m*\u001b[0m\u001b[0mself\u001b[0m\u001b[1;33m.\u001b[0m\u001b[0m_args\u001b[0m\u001b[1;33m)\u001b[0m\u001b[1;33m\u001b[0m\u001b[0m\n\u001b[0m\u001b[0;32m   1815\u001b[0m         \u001b[1;32mif\u001b[0m \u001b[0mself\u001b[0m\u001b[1;33m.\u001b[0m\u001b[0m_blit\u001b[0m\u001b[1;33m:\u001b[0m\u001b[1;33m\u001b[0m\u001b[0m\n\u001b[0;32m   1816\u001b[0m             \u001b[1;32mif\u001b[0m \u001b[0mself\u001b[0m\u001b[1;33m.\u001b[0m\u001b[0m_drawn_artists\u001b[0m \u001b[1;32mis\u001b[0m \u001b[1;32mNone\u001b[0m\u001b[1;33m:\u001b[0m\u001b[1;33m\u001b[0m\u001b[0m\n",
      "\u001b[1;32m<ipython-input-23-03ddb685e2f2>\u001b[0m in \u001b[0;36manimate\u001b[1;34m(i)\u001b[0m\n\u001b[0;32m      8\u001b[0m     \u001b[0mlabel\u001b[0m \u001b[1;33m=\u001b[0m \u001b[0mdf\u001b[0m\u001b[1;33m.\u001b[0m\u001b[0mcolumns\u001b[0m\u001b[1;33m[\u001b[0m\u001b[0mi\u001b[0m\u001b[1;33m]\u001b[0m\u001b[1;33m\u001b[0m\u001b[0m\n\u001b[0;32m      9\u001b[0m     \u001b[0mxy\u001b[0m \u001b[1;33m=\u001b[0m \u001b[0mdf\u001b[0m\u001b[1;33m[\u001b[0m\u001b[0mlabel\u001b[0m\u001b[1;33m]\u001b[0m\u001b[1;33m\u001b[0m\u001b[0m\n\u001b[1;32m---> 10\u001b[1;33m     \u001b[0max\u001b[0m\u001b[1;33m.\u001b[0m\u001b[0mclear\u001b[0m\u001b[1;33m(\u001b[0m\u001b[1;33m)\u001b[0m\u001b[1;33m\u001b[0m\u001b[0m\n\u001b[0m\u001b[0;32m     11\u001b[0m \u001b[1;33m\u001b[0m\u001b[0m\n\u001b[0;32m     12\u001b[0m     \u001b[0mplt\u001b[0m\u001b[1;33m.\u001b[0m\u001b[0mylim\u001b[0m\u001b[1;33m(\u001b[0m\u001b[1;33m-\u001b[0m\u001b[1;36m20\u001b[0m\u001b[1;33m,\u001b[0m\u001b[1;36m500\u001b[0m\u001b[1;33m)\u001b[0m\u001b[1;33m\u001b[0m\u001b[0m\n",
      "\u001b[1;32mC:\\ProgramData\\Anaconda3\\lib\\site-packages\\matplotlib\\axes\\_base.py\u001b[0m in \u001b[0;36mclear\u001b[1;34m(self)\u001b[0m\n\u001b[0;32m   1104\u001b[0m     \u001b[1;32mdef\u001b[0m \u001b[0mclear\u001b[0m\u001b[1;33m(\u001b[0m\u001b[0mself\u001b[0m\u001b[1;33m)\u001b[0m\u001b[1;33m:\u001b[0m\u001b[1;33m\u001b[0m\u001b[0m\n\u001b[0;32m   1105\u001b[0m         \u001b[1;34m\"\"\"clear the axes\"\"\"\u001b[0m\u001b[1;33m\u001b[0m\u001b[0m\n\u001b[1;32m-> 1106\u001b[1;33m         \u001b[0mself\u001b[0m\u001b[1;33m.\u001b[0m\u001b[0mcla\u001b[0m\u001b[1;33m(\u001b[0m\u001b[1;33m)\u001b[0m\u001b[1;33m\u001b[0m\u001b[0m\n\u001b[0m\u001b[0;32m   1107\u001b[0m \u001b[1;33m\u001b[0m\u001b[0m\n\u001b[0;32m   1108\u001b[0m     \u001b[1;32mdef\u001b[0m \u001b[0mget_facecolor\u001b[0m\u001b[1;33m(\u001b[0m\u001b[0mself\u001b[0m\u001b[1;33m)\u001b[0m\u001b[1;33m:\u001b[0m\u001b[1;33m\u001b[0m\u001b[0m\n",
      "\u001b[1;32mC:\\ProgramData\\Anaconda3\\lib\\site-packages\\matplotlib\\axes\\_base.py\u001b[0m in \u001b[0;36mcla\u001b[1;34m(self)\u001b[0m\n\u001b[0;32m    987\u001b[0m             \u001b[0mself\u001b[0m\u001b[1;33m.\u001b[0m\u001b[0mxaxis\u001b[0m\u001b[1;33m.\u001b[0m\u001b[0m_set_scale\u001b[0m\u001b[1;33m(\u001b[0m\u001b[1;34m'linear'\u001b[0m\u001b[1;33m)\u001b[0m\u001b[1;33m\u001b[0m\u001b[0m\n\u001b[0;32m    988\u001b[0m             \u001b[1;32mtry\u001b[0m\u001b[1;33m:\u001b[0m\u001b[1;33m\u001b[0m\u001b[0m\n\u001b[1;32m--> 989\u001b[1;33m                 \u001b[0mself\u001b[0m\u001b[1;33m.\u001b[0m\u001b[0mset_xlim\u001b[0m\u001b[1;33m(\u001b[0m\u001b[1;36m0\u001b[0m\u001b[1;33m,\u001b[0m \u001b[1;36m1\u001b[0m\u001b[1;33m)\u001b[0m\u001b[1;33m\u001b[0m\u001b[0m\n\u001b[0m\u001b[0;32m    990\u001b[0m             \u001b[1;32mexcept\u001b[0m \u001b[0mTypeError\u001b[0m\u001b[1;33m:\u001b[0m\u001b[1;33m\u001b[0m\u001b[0m\n\u001b[0;32m    991\u001b[0m                 \u001b[1;32mpass\u001b[0m\u001b[1;33m\u001b[0m\u001b[0m\n",
      "\u001b[1;32mC:\\ProgramData\\Anaconda3\\lib\\site-packages\\matplotlib\\axes\\_base.py\u001b[0m in \u001b[0;36mset_xlim\u001b[1;34m(self, left, right, emit, auto, **kw)\u001b[0m\n\u001b[0;32m   2925\u001b[0m         \u001b[0mleft\u001b[0m\u001b[1;33m,\u001b[0m \u001b[0mright\u001b[0m \u001b[1;33m=\u001b[0m \u001b[0mself\u001b[0m\u001b[1;33m.\u001b[0m\u001b[0mxaxis\u001b[0m\u001b[1;33m.\u001b[0m\u001b[0mlimit_range_for_scale\u001b[0m\u001b[1;33m(\u001b[0m\u001b[0mleft\u001b[0m\u001b[1;33m,\u001b[0m \u001b[0mright\u001b[0m\u001b[1;33m)\u001b[0m\u001b[1;33m\u001b[0m\u001b[0m\n\u001b[0;32m   2926\u001b[0m \u001b[1;33m\u001b[0m\u001b[0m\n\u001b[1;32m-> 2927\u001b[1;33m         \u001b[0mself\u001b[0m\u001b[1;33m.\u001b[0m\u001b[0mviewLim\u001b[0m\u001b[1;33m.\u001b[0m\u001b[0mintervalx\u001b[0m \u001b[1;33m=\u001b[0m \u001b[1;33m(\u001b[0m\u001b[0mleft\u001b[0m\u001b[1;33m,\u001b[0m \u001b[0mright\u001b[0m\u001b[1;33m)\u001b[0m\u001b[1;33m\u001b[0m\u001b[0m\n\u001b[0m\u001b[0;32m   2928\u001b[0m         \u001b[1;32mif\u001b[0m \u001b[0mauto\u001b[0m \u001b[1;32mis\u001b[0m \u001b[1;32mnot\u001b[0m \u001b[1;32mNone\u001b[0m\u001b[1;33m:\u001b[0m\u001b[1;33m\u001b[0m\u001b[0m\n\u001b[0;32m   2929\u001b[0m             \u001b[0mself\u001b[0m\u001b[1;33m.\u001b[0m\u001b[0m_autoscaleXon\u001b[0m \u001b[1;33m=\u001b[0m \u001b[0mbool\u001b[0m\u001b[1;33m(\u001b[0m\u001b[0mauto\u001b[0m\u001b[1;33m)\u001b[0m\u001b[1;33m\u001b[0m\u001b[0m\n",
      "\u001b[1;32mC:\\ProgramData\\Anaconda3\\lib\\site-packages\\matplotlib\\transforms.py\u001b[0m in \u001b[0;36mintervalx\u001b[1;34m(self, interval)\u001b[0m\n\u001b[0;32m    957\u001b[0m     \u001b[1;32mdef\u001b[0m \u001b[0mintervalx\u001b[0m\u001b[1;33m(\u001b[0m\u001b[0mself\u001b[0m\u001b[1;33m,\u001b[0m \u001b[0minterval\u001b[0m\u001b[1;33m)\u001b[0m\u001b[1;33m:\u001b[0m\u001b[1;33m\u001b[0m\u001b[0m\n\u001b[0;32m    958\u001b[0m         \u001b[0mself\u001b[0m\u001b[1;33m.\u001b[0m\u001b[0m_points\u001b[0m\u001b[1;33m[\u001b[0m\u001b[1;33m:\u001b[0m\u001b[1;33m,\u001b[0m \u001b[1;36m0\u001b[0m\u001b[1;33m]\u001b[0m \u001b[1;33m=\u001b[0m \u001b[0minterval\u001b[0m\u001b[1;33m\u001b[0m\u001b[0m\n\u001b[1;32m--> 959\u001b[1;33m         \u001b[0mself\u001b[0m\u001b[1;33m.\u001b[0m\u001b[0minvalidate\u001b[0m\u001b[1;33m(\u001b[0m\u001b[1;33m)\u001b[0m\u001b[1;33m\u001b[0m\u001b[0m\n\u001b[0m\u001b[0;32m    960\u001b[0m \u001b[1;33m\u001b[0m\u001b[0m\n\u001b[0;32m    961\u001b[0m     \u001b[1;33m@\u001b[0m\u001b[0mBboxBase\u001b[0m\u001b[1;33m.\u001b[0m\u001b[0mintervaly\u001b[0m\u001b[1;33m.\u001b[0m\u001b[0msetter\u001b[0m\u001b[1;33m\u001b[0m\u001b[0m\n",
      "\u001b[1;32mC:\\ProgramData\\Anaconda3\\lib\\site-packages\\matplotlib\\transforms.py\u001b[0m in \u001b[0;36minvalidate\u001b[1;34m(self)\u001b[0m\n\u001b[0;32m    131\u001b[0m         \u001b[1;32mif\u001b[0m \u001b[0mself\u001b[0m\u001b[1;33m.\u001b[0m\u001b[0mis_affine\u001b[0m\u001b[1;33m:\u001b[0m\u001b[1;33m\u001b[0m\u001b[0m\n\u001b[0;32m    132\u001b[0m             \u001b[0mvalue\u001b[0m \u001b[1;33m=\u001b[0m \u001b[0mself\u001b[0m\u001b[1;33m.\u001b[0m\u001b[0mINVALID_AFFINE\u001b[0m\u001b[1;33m\u001b[0m\u001b[0m\n\u001b[1;32m--> 133\u001b[1;33m         \u001b[1;32mreturn\u001b[0m \u001b[0mself\u001b[0m\u001b[1;33m.\u001b[0m\u001b[0m_invalidate_internal\u001b[0m\u001b[1;33m(\u001b[0m\u001b[0mvalue\u001b[0m\u001b[1;33m,\u001b[0m \u001b[0minvalidating_node\u001b[0m\u001b[1;33m=\u001b[0m\u001b[0mself\u001b[0m\u001b[1;33m)\u001b[0m\u001b[1;33m\u001b[0m\u001b[0m\n\u001b[0m\u001b[0;32m    134\u001b[0m \u001b[1;33m\u001b[0m\u001b[0m\n\u001b[0;32m    135\u001b[0m     \u001b[1;32mdef\u001b[0m \u001b[0m_invalidate_internal\u001b[0m\u001b[1;33m(\u001b[0m\u001b[0mself\u001b[0m\u001b[1;33m,\u001b[0m \u001b[0mvalue\u001b[0m\u001b[1;33m,\u001b[0m \u001b[0minvalidating_node\u001b[0m\u001b[1;33m)\u001b[0m\u001b[1;33m:\u001b[0m\u001b[1;33m\u001b[0m\u001b[0m\n",
      "\u001b[1;32mC:\\ProgramData\\Anaconda3\\lib\\site-packages\\matplotlib\\transforms.py\u001b[0m in \u001b[0;36m_invalidate_internal\u001b[1;34m(self, value, invalidating_node)\u001b[0m\n\u001b[0;32m    158\u001b[0m                 \u001b[1;32mif\u001b[0m \u001b[0mparent\u001b[0m \u001b[1;32mis\u001b[0m \u001b[1;32mnot\u001b[0m \u001b[1;32mNone\u001b[0m\u001b[1;33m:\u001b[0m\u001b[1;33m\u001b[0m\u001b[0m\n\u001b[0;32m    159\u001b[0m                     parent._invalidate_internal(\n\u001b[1;32m--> 160\u001b[1;33m                         value=value, invalidating_node=self)\n\u001b[0m\u001b[0;32m    161\u001b[0m \u001b[1;33m\u001b[0m\u001b[0m\n\u001b[0;32m    162\u001b[0m     \u001b[1;32mdef\u001b[0m \u001b[0mset_children\u001b[0m\u001b[1;33m(\u001b[0m\u001b[0mself\u001b[0m\u001b[1;33m,\u001b[0m \u001b[1;33m*\u001b[0m\u001b[0mchildren\u001b[0m\u001b[1;33m)\u001b[0m\u001b[1;33m:\u001b[0m\u001b[1;33m\u001b[0m\u001b[0m\n",
      "\u001b[1;32mC:\\ProgramData\\Anaconda3\\lib\\site-packages\\matplotlib\\transforms.py\u001b[0m in \u001b[0;36m_invalidate_internal\u001b[1;34m(self, value, invalidating_node)\u001b[0m\n\u001b[0;32m    158\u001b[0m                 \u001b[1;32mif\u001b[0m \u001b[0mparent\u001b[0m \u001b[1;32mis\u001b[0m \u001b[1;32mnot\u001b[0m \u001b[1;32mNone\u001b[0m\u001b[1;33m:\u001b[0m\u001b[1;33m\u001b[0m\u001b[0m\n\u001b[0;32m    159\u001b[0m                     parent._invalidate_internal(\n\u001b[1;32m--> 160\u001b[1;33m                         value=value, invalidating_node=self)\n\u001b[0m\u001b[0;32m    161\u001b[0m \u001b[1;33m\u001b[0m\u001b[0m\n\u001b[0;32m    162\u001b[0m     \u001b[1;32mdef\u001b[0m \u001b[0mset_children\u001b[0m\u001b[1;33m(\u001b[0m\u001b[0mself\u001b[0m\u001b[1;33m,\u001b[0m \u001b[1;33m*\u001b[0m\u001b[0mchildren\u001b[0m\u001b[1;33m)\u001b[0m\u001b[1;33m:\u001b[0m\u001b[1;33m\u001b[0m\u001b[0m\n",
      "\u001b[1;32mC:\\ProgramData\\Anaconda3\\lib\\site-packages\\matplotlib\\transforms.py\u001b[0m in \u001b[0;36m_invalidate_internal\u001b[1;34m(self, value, invalidating_node)\u001b[0m\n\u001b[0;32m    158\u001b[0m                 \u001b[1;32mif\u001b[0m \u001b[0mparent\u001b[0m \u001b[1;32mis\u001b[0m \u001b[1;32mnot\u001b[0m \u001b[1;32mNone\u001b[0m\u001b[1;33m:\u001b[0m\u001b[1;33m\u001b[0m\u001b[0m\n\u001b[0;32m    159\u001b[0m                     parent._invalidate_internal(\n\u001b[1;32m--> 160\u001b[1;33m                         value=value, invalidating_node=self)\n\u001b[0m\u001b[0;32m    161\u001b[0m \u001b[1;33m\u001b[0m\u001b[0m\n\u001b[0;32m    162\u001b[0m     \u001b[1;32mdef\u001b[0m \u001b[0mset_children\u001b[0m\u001b[1;33m(\u001b[0m\u001b[0mself\u001b[0m\u001b[1;33m,\u001b[0m \u001b[1;33m*\u001b[0m\u001b[0mchildren\u001b[0m\u001b[1;33m)\u001b[0m\u001b[1;33m:\u001b[0m\u001b[1;33m\u001b[0m\u001b[0m\n",
      "\u001b[1;32mC:\\ProgramData\\Anaconda3\\lib\\site-packages\\matplotlib\\transforms.py\u001b[0m in \u001b[0;36m_invalidate_internal\u001b[1;34m(self, value, invalidating_node)\u001b[0m\n\u001b[0;32m   2414\u001b[0m \u001b[1;33m\u001b[0m\u001b[0m\n\u001b[0;32m   2415\u001b[0m         Transform._invalidate_internal(self, value=value,\n\u001b[1;32m-> 2416\u001b[1;33m                                        invalidating_node=invalidating_node)\n\u001b[0m\u001b[0;32m   2417\u001b[0m \u001b[1;33m\u001b[0m\u001b[0m\n\u001b[0;32m   2418\u001b[0m     \u001b[1;32mdef\u001b[0m \u001b[0m__eq__\u001b[0m\u001b[1;33m(\u001b[0m\u001b[0mself\u001b[0m\u001b[1;33m,\u001b[0m \u001b[0mother\u001b[0m\u001b[1;33m)\u001b[0m\u001b[1;33m:\u001b[0m\u001b[1;33m\u001b[0m\u001b[0m\n",
      "\u001b[1;32mC:\\ProgramData\\Anaconda3\\lib\\site-packages\\matplotlib\\transforms.py\u001b[0m in \u001b[0;36m_invalidate_internal\u001b[1;34m(self, value, invalidating_node)\u001b[0m\n\u001b[0;32m    158\u001b[0m                 \u001b[1;32mif\u001b[0m \u001b[0mparent\u001b[0m \u001b[1;32mis\u001b[0m \u001b[1;32mnot\u001b[0m \u001b[1;32mNone\u001b[0m\u001b[1;33m:\u001b[0m\u001b[1;33m\u001b[0m\u001b[0m\n\u001b[0;32m    159\u001b[0m                     parent._invalidate_internal(\n\u001b[1;32m--> 160\u001b[1;33m                         value=value, invalidating_node=self)\n\u001b[0m\u001b[0;32m    161\u001b[0m \u001b[1;33m\u001b[0m\u001b[0m\n\u001b[0;32m    162\u001b[0m     \u001b[1;32mdef\u001b[0m \u001b[0mset_children\u001b[0m\u001b[1;33m(\u001b[0m\u001b[0mself\u001b[0m\u001b[1;33m,\u001b[0m \u001b[1;33m*\u001b[0m\u001b[0mchildren\u001b[0m\u001b[1;33m)\u001b[0m\u001b[1;33m:\u001b[0m\u001b[1;33m\u001b[0m\u001b[0m\n",
      "\u001b[1;32mC:\\ProgramData\\Anaconda3\\lib\\site-packages\\matplotlib\\transforms.py\u001b[0m in \u001b[0;36m_invalidate_internal\u001b[1;34m(self, value, invalidating_node)\u001b[0m\n\u001b[0;32m   2414\u001b[0m \u001b[1;33m\u001b[0m\u001b[0m\n\u001b[0;32m   2415\u001b[0m         Transform._invalidate_internal(self, value=value,\n\u001b[1;32m-> 2416\u001b[1;33m                                        invalidating_node=invalidating_node)\n\u001b[0m\u001b[0;32m   2417\u001b[0m \u001b[1;33m\u001b[0m\u001b[0m\n\u001b[0;32m   2418\u001b[0m     \u001b[1;32mdef\u001b[0m \u001b[0m__eq__\u001b[0m\u001b[1;33m(\u001b[0m\u001b[0mself\u001b[0m\u001b[1;33m,\u001b[0m \u001b[0mother\u001b[0m\u001b[1;33m)\u001b[0m\u001b[1;33m:\u001b[0m\u001b[1;33m\u001b[0m\u001b[0m\n",
      "\u001b[1;32mC:\\ProgramData\\Anaconda3\\lib\\site-packages\\matplotlib\\transforms.py\u001b[0m in \u001b[0;36m_invalidate_internal\u001b[1;34m(self, value, invalidating_node)\u001b[0m\n\u001b[0;32m    158\u001b[0m                 \u001b[1;32mif\u001b[0m \u001b[0mparent\u001b[0m \u001b[1;32mis\u001b[0m \u001b[1;32mnot\u001b[0m \u001b[1;32mNone\u001b[0m\u001b[1;33m:\u001b[0m\u001b[1;33m\u001b[0m\u001b[0m\n\u001b[0;32m    159\u001b[0m                     parent._invalidate_internal(\n\u001b[1;32m--> 160\u001b[1;33m                         value=value, invalidating_node=self)\n\u001b[0m\u001b[0;32m    161\u001b[0m \u001b[1;33m\u001b[0m\u001b[0m\n\u001b[0;32m    162\u001b[0m     \u001b[1;32mdef\u001b[0m \u001b[0mset_children\u001b[0m\u001b[1;33m(\u001b[0m\u001b[0mself\u001b[0m\u001b[1;33m,\u001b[0m \u001b[1;33m*\u001b[0m\u001b[0mchildren\u001b[0m\u001b[1;33m)\u001b[0m\u001b[1;33m:\u001b[0m\u001b[1;33m\u001b[0m\u001b[0m\n",
      "\u001b[1;32mC:\\ProgramData\\Anaconda3\\lib\\site-packages\\matplotlib\\transforms.py\u001b[0m in \u001b[0;36m_invalidate_internal\u001b[1;34m(self, value, invalidating_node)\u001b[0m\n\u001b[0;32m    155\u001b[0m             \u001b[1;32mfor\u001b[0m \u001b[0mparent\u001b[0m \u001b[1;32min\u001b[0m \u001b[0mlist\u001b[0m\u001b[1;33m(\u001b[0m\u001b[0msix\u001b[0m\u001b[1;33m.\u001b[0m\u001b[0mitervalues\u001b[0m\u001b[1;33m(\u001b[0m\u001b[0mself\u001b[0m\u001b[1;33m.\u001b[0m\u001b[0m_parents\u001b[0m\u001b[1;33m)\u001b[0m\u001b[1;33m)\u001b[0m\u001b[1;33m:\u001b[0m\u001b[1;33m\u001b[0m\u001b[0m\n\u001b[0;32m    156\u001b[0m                 \u001b[1;31m# Dereference the weak reference\u001b[0m\u001b[1;33m\u001b[0m\u001b[1;33m\u001b[0m\u001b[0m\n\u001b[1;32m--> 157\u001b[1;33m                 \u001b[0mparent\u001b[0m \u001b[1;33m=\u001b[0m \u001b[0mparent\u001b[0m\u001b[1;33m(\u001b[0m\u001b[1;33m)\u001b[0m\u001b[1;33m\u001b[0m\u001b[0m\n\u001b[0m\u001b[0;32m    158\u001b[0m                 \u001b[1;32mif\u001b[0m \u001b[0mparent\u001b[0m \u001b[1;32mis\u001b[0m \u001b[1;32mnot\u001b[0m \u001b[1;32mNone\u001b[0m\u001b[1;33m:\u001b[0m\u001b[1;33m\u001b[0m\u001b[0m\n\u001b[0;32m    159\u001b[0m                     parent._invalidate_internal(\n",
      "\u001b[1;31mKeyboardInterrupt\u001b[0m: "
     ]
    },
    {
     "data": {
      "image/png": "[encoded data removed]",
      "text/plain": [
       "<matplotlib.figure.Figure at 0x3740b668>"
      ]
     },
     "metadata": {},
     "output_type": "display_data"
    }
   ],
   "source": [
    "fig = plt.figure(figsize=(10,10))\n",
    "ax = plt.axes()  \n",
    "plt.xlabel(r'Wavelength')\n",
    "plt.ylabel(r'Intensity')\n",
    "\n",
    "# animation function\n",
    "def animate(i):\n",
    "    label = df.columns[i]\n",
    "    xy = df[label]\n",
    "    ax.clear()\n",
    "    \n",
    "    plt.ylim(-20,500)\n",
    "    plot = plt.plot(xy, label = label)\n",
    "    ax.legend()\n",
    "    return plot  \n",
    "\n",
    "anim = animation.FuncAnimation(fig, animate, frames=len(df.columns[5000:6000]), blit=False)\n",
    "mywriter = animation.FFMpegWriter(fps=10, bitrate=4000)\n",
    "\n",
    "anim.save(\"Mo.mp4\", writer=mywriter)"
   ]
  },
  {
   "cell_type": "code",
   "execution_count": 38,
   "metadata": {},
   "outputs": [
    {
     "data": {
      "text/plain": [
       "22019"
      ]
     },
     "execution_count": 38,
     "metadata": {},
     "output_type": "execute_result"
    }
   ],
   "source": [
    "len(df.columns)"
   ]
  },
  {
   "cell_type": "code",
   "execution_count": 40,
   "metadata": {},
   "outputs": [
    {
     "data": {
      "text/plain": [
       "<matplotlib.legend.Legend at 0x6da788d0>"
      ]
     },
     "execution_count": 40,
     "metadata": {},
     "output_type": "execute_result"
    },
    {
     "data": {
      "image/png": "[encoded data removed]",
      "text/plain": [
       "<matplotlib.figure.Figure at 0x4890d128>"
      ]
     },
     "metadata": {},
     "output_type": "display_data"
    }
   ],
   "source": [
    "ax = plt.axes()\n",
    "a = df.columns[-10100]\n",
    "plt.ylim(-20,500)\n",
    "plot = plt.plot(df[a], label = a)\n",
    "ax.legend()"
   ]
  },
  {
   "cell_type": "code",
   "execution_count": 9,
   "metadata": {},
   "outputs": [
    {
     "data": {
      "text/plain": [
       "Timestamp('2018-04-17 19:31:37.481029+0000', tz='UTC')"
      ]
     },
     "execution_count": 9,
     "metadata": {},
     "output_type": "execute_result"
    }
   ],
   "source": [
    "max(df)"
   ]
  },
  {
   "cell_type": "code",
   "execution_count": 10,
   "metadata": {},
   "outputs": [
    {
     "data": {
      "text/plain": [
       "3955.7392415987756"
      ]
     },
     "execution_count": 10,
     "metadata": {},
     "output_type": "execute_result"
    }
   ],
   "source": [
    "np.max(np.max(df))"
   ]
  },
  {
   "cell_type": "code",
   "execution_count": 17,
   "metadata": {
    "collapsed": true
   },
   "outputs": [],
   "source": [
    "def twocolortemp(wl1,wl2,s):\n",
    "    c2 = 14394264.78261\n",
    "    wi1 = np.where(np.abs(s.index - wl1)<3.28)[0][1]\n",
    "    wi2 = np.where(np.abs(s.index - wl2)<3.28)[0][1]\n",
    "    e1 = s.iloc[wi1]\n",
    "    e2 = s.iloc[wi2]\n",
    "    num = c2*((1/wl1)-(1/wl2))\n",
    "    den = -np.log(e1*wl1**5)+np.log(e2*wl2**5)\n",
    "    #return e2\n",
    "    return num/den"
   ]
  },
  {
   "cell_type": "code",
   "execution_count": 18,
   "metadata": {},
   "outputs": [
    {
     "name": "stderr",
     "output_type": "stream",
     "text": [
      "C:\\ProgramData\\Anaconda3\\lib\\site-packages\\ipykernel_launcher.py:8: RuntimeWarning: invalid value encountered in log\n",
      "  \n"
     ]
    },
    {
     "data": {
      "text/plain": [
       "<matplotlib.legend.Legend at 0x370487b8>"
      ]
     },
     "execution_count": 18,
     "metadata": {},
     "output_type": "execute_result"
    },
    {
     "data": {
      "image/png": "[encoded data removed]",
      "text/plain": [
       "<matplotlib.figure.Figure at 0x37554f60>"
      ]
     },
     "metadata": {},
     "output_type": "display_data"
    }
   ],
   "source": [
    "wa, wb = (1000,1300)\n",
    "T = []\n",
    "for col in df.columns:\n",
    "    s = df[col]\n",
    "    T.append(twocolortemp(wa,wb,s))\n",
    "    #print(s)\n",
    "\n",
    "plt.plot(df.columns, T, label='PostMeas')\n",
    "#plt.plot(, Trt['Color Temp 1-2'])\n",
    "#plt.plot(Trt2['Time'], Trt2['Temp'+str(wa)+'-'+str(wb)], label='RealTime')\n",
    "plt.ylim(-100,3000)\n",
    "#plt.xlim(8000,10000)\n",
    "plt.legend()"
   ]
  },
  {
   "cell_type": "code",
   "execution_count": 285,
   "metadata": {},
   "outputs": [
    {
     "name": "stderr",
     "output_type": "stream",
     "text": [
      "C:\\ProgramData\\Anaconda3\\lib\\site-packages\\ipykernel_launcher.py:8: RuntimeWarning: invalid value encountered in log\n",
      "  \n",
      "C:\\ProgramData\\Anaconda3\\lib\\site-packages\\ipykernel_launcher.py:10: RuntimeWarning: invalid value encountered in double_scalars\n",
      "  # Remove the CWD from sys.path while we load stuff.\n"
     ]
    },
    {
     "name": "stdout",
     "output_type": "stream",
     "text": [
      "2018-09-21 09:18:44.702682\n",
      "2018-09-21 09:17:53.697682\n",
      "2018-09-21 09:19:31.717384\n",
      "2018-09-21 09:18:23.208524\n",
      "2018-09-21 09:22:27.187968\n",
      "2018-09-21 09:18:48.862176\n",
      "2018-09-21 09:18:19.789231\n",
      "2018-09-21 09:18:13.584573\n",
      "2018-09-21 09:18:37.767084\n",
      "2018-09-21 09:18:07.311956\n",
      "2018-09-21 09:18:40.621323\n",
      "2018-09-21 09:18:34.320693\n",
      "2018-09-21 09:18:34.587693\n",
      "2018-09-21 09:18:24.290725\n",
      "2018-09-21 09:18:34.644682\n",
      "2018-09-21 09:18:31.548424\n",
      "2018-09-21 09:18:17.096979\n",
      "2018-09-21 09:18:29.614155\n",
      "2018-09-21 09:18:04.462748\n",
      "2018-09-21 09:18:16.681896\n",
      "2018-09-21 09:18:09.229167\n",
      "2018-09-21 09:18:17.710047\n",
      "2018-09-21 09:18:19.053126\n",
      "2018-09-21 09:18:21.081360\n",
      "2018-09-21 09:18:07.682051\n",
      "2018-09-21 09:18:16.042811\n",
      "2018-09-21 09:18:01.041386\n",
      "2018-09-21 09:18:21.615384\n",
      "2018-09-21 09:18:13.000581\n",
      "2018-09-21 09:18:37.987029\n",
      "2018-09-21 09:17:50.483343\n",
      "2018-09-21 09:17:32.771523\n",
      "2018-09-21 09:17:16.830936\n",
      "2018-09-21 09:17:17.102936\n",
      "2018-09-21 09:16:57.000993\n",
      "2018-09-21 09:17:01.951455\n",
      "2018-09-21 09:16:58.051000\n",
      "2018-09-21 09:17:00.355320\n",
      "2018-09-21 09:16:57.709005\n",
      "2018-09-21 09:17:00.127253\n",
      "2018-09-21 09:17:00.249314\n",
      "2018-09-21 09:16:59.829254\n",
      "2018-09-21 09:17:00.065254\n",
      "2018-09-21 09:17:00.413254\n",
      "2018-09-21 09:17:05.942881\n",
      "2018-09-21 09:16:58.550097\n",
      "2018-09-21 09:17:02.290482\n",
      "2018-09-21 09:16:58.672104\n",
      "2018-09-21 09:16:59.891263\n",
      "2018-09-21 09:16:57.395003\n",
      "2018-09-21 09:16:59.945207\n",
      "2018-09-21 09:17:01.545407\n",
      "2018-09-21 09:16:59.046162\n",
      "2018-09-21 09:16:59.574210\n",
      "2018-09-21 09:16:58.775163\n",
      "2018-09-21 09:17:02.593485\n",
      "2018-09-21 09:16:58.093080\n",
      "2018-09-21 09:16:59.985256\n",
      "2018-09-21 09:16:59.039127\n",
      "2018-09-21 09:16:58.745127\n",
      "2018-09-21 09:16:59.606250\n",
      "2018-09-21 09:17:01.086330\n",
      "2018-09-21 09:17:00.501330\n",
      "2018-09-21 09:16:58.449102\n",
      "2018-09-21 09:17:49.958245\n",
      "2018-09-21 09:17:00.705313\n",
      "2018-09-21 09:17:03.820628\n",
      "2018-09-21 09:17:01.780424\n",
      "2018-09-21 09:17:03.430622\n",
      "2018-09-21 09:17:01.158366\n",
      "2018-09-21 09:17:02.739521\n",
      "2018-09-21 09:17:01.239371\n",
      "2018-09-21 09:17:01.848429\n",
      "2018-09-21 09:17:01.820457\n",
      "2018-09-21 09:17:00.956349\n",
      "2018-09-21 09:17:01.424375\n",
      "2018-09-21 09:17:01.424400\n",
      "2018-09-21 09:17:03.224568\n",
      "2018-09-21 09:17:01.407407\n",
      "2018-09-21 09:17:01.649407\n",
      "2018-09-21 09:17:01.061365\n",
      "2018-09-21 09:17:01.861445\n",
      "2018-09-21 09:17:01.348388\n",
      "2018-09-21 09:17:01.348388\n",
      "2018-09-21 09:17:01.569405\n",
      "2018-09-21 09:17:01.633421\n",
      "2018-09-21 09:17:01.543406\n",
      "2018-09-21 09:17:01.361392\n",
      "2018-09-21 09:17:02.401483\n",
      "2018-09-21 09:17:01.045363\n",
      "2018-09-21 09:17:01.639418\n",
      "2018-09-21 09:17:01.549408\n",
      "2018-09-21 09:17:01.441399\n",
      "2018-09-21 09:17:01.441391\n",
      "2018-09-21 09:17:01.546412\n",
      "2018-09-21 09:17:01.666418\n",
      "2018-09-21 09:17:01.261378\n",
      "2018-09-21 09:17:05.061758\n",
      "2018-09-21 09:17:02.634518\n",
      "2018-09-21 09:17:02.620514\n"
     ]
    }
   ],
   "source": [
    "ws= np.arange(1050,1950,90)\n",
    "i = pd.MultiIndex.from_product((ws,ws))\n",
    "sweepdf = pd.DataFrame(columns = i)\n",
    "runtime = []\n",
    "rightnow = dt.datetime.now()\n",
    "for pos, pair in enumerate(i):\n",
    "    T=[]\n",
    "    wa, wb = pair\n",
    "    for col in df.columns:\n",
    "        s=df[col]\n",
    "        T.append(twocolortemp(wa,wb,s))\n",
    "    sweepdf[pair] = T\n",
    "    \n",
    "    deltat = dt.datetime.now()-rightnow\n",
    "    rightnow = dt.datetime.now()\n",
    "    runtime.append([rightnow,deltat.total_seconds()])\n",
    "    eta = rightnow + (len(i)-pos)*deltat\n",
    "    print('eta: '+eta)\n",
    "    "
   ]
  },
  {
   "cell_type": "code",
   "execution_count": 282,
   "metadata": {},
   "outputs": [
    {
     "data": {
      "text/plain": [
       "[<matplotlib.lines.Line2D at 0xd0e0a550>]"
      ]
     },
     "execution_count": 282,
     "metadata": {},
     "output_type": "execute_result"
    },
    {
     "data": {
      "image/png": "[encoded data removed]",
      "text/plain": [
       "<matplotlib.figure.Figure at 0xd122ba20>"
      ]
     },
     "metadata": {},
     "output_type": "display_data"
    }
   ],
   "source": [
    "plt.plot(np.array(runtime)[:,1])"
   ]
  },
  {
   "cell_type": "code",
   "execution_count": 283,
   "metadata": {},
   "outputs": [
    {
     "data": {
      "text/plain": [
       "[[datetime.datetime(2018, 9, 20, 17, 16, 26, 990737), 7.419],\n",
       " [datetime.datetime(2018, 9, 20, 17, 16, 26, 990737), 14.665],\n",
       " [datetime.datetime(2018, 9, 20, 17, 16, 26, 990737), 21.945],\n",
       " [datetime.datetime(2018, 9, 20, 17, 16, 26, 990737), 29.177],\n",
       " [datetime.datetime(2018, 9, 20, 17, 16, 26, 990737), 36.497],\n",
       " [datetime.datetime(2018, 9, 20, 17, 16, 26, 990737), 43.751],\n",
       " [datetime.datetime(2018, 9, 20, 17, 16, 26, 990737), 51.012],\n",
       " [datetime.datetime(2018, 9, 20, 17, 16, 26, 990737), 58.255],\n",
       " [datetime.datetime(2018, 9, 20, 17, 16, 26, 990737), 65.474],\n",
       " [datetime.datetime(2018, 9, 20, 17, 16, 26, 990737), 72.73],\n",
       " [datetime.datetime(2018, 9, 20, 17, 16, 26, 990737), 79.95],\n",
       " [datetime.datetime(2018, 9, 20, 17, 16, 26, 990737), 87.276],\n",
       " [datetime.datetime(2018, 9, 20, 17, 16, 26, 990737), 94.524],\n",
       " [datetime.datetime(2018, 9, 20, 17, 16, 26, 990737), 101.773],\n",
       " [datetime.datetime(2018, 9, 20, 17, 16, 26, 990737), 109.014],\n",
       " [datetime.datetime(2018, 9, 20, 17, 16, 26, 990737), 116.257],\n",
       " [datetime.datetime(2018, 9, 20, 17, 16, 26, 990737), 123.484],\n",
       " [datetime.datetime(2018, 9, 20, 17, 16, 26, 990737), 130.714],\n",
       " [datetime.datetime(2018, 9, 20, 17, 16, 26, 990737), 137.913],\n",
       " [datetime.datetime(2018, 9, 20, 17, 16, 26, 990737), 145.129],\n",
       " [datetime.datetime(2018, 9, 20, 17, 16, 26, 990737), 152.449],\n",
       " [datetime.datetime(2018, 9, 20, 17, 16, 26, 990737), 159.789],\n",
       " [datetime.datetime(2018, 9, 20, 17, 16, 26, 990737), 167.421],\n",
       " [datetime.datetime(2018, 9, 20, 17, 16, 26, 990737), 174.761],\n",
       " [datetime.datetime(2018, 9, 20, 17, 16, 26, 990737), 182.327],\n",
       " [datetime.datetime(2018, 9, 20, 17, 16, 26, 990737), 189.639],\n",
       " [datetime.datetime(2018, 9, 20, 17, 16, 26, 990737), 197.0],\n",
       " [datetime.datetime(2018, 9, 20, 17, 16, 26, 990737), 204.411],\n",
       " [datetime.datetime(2018, 9, 20, 17, 16, 26, 990737), 211.794],\n",
       " [datetime.datetime(2018, 9, 20, 17, 16, 26, 990737), 219.133],\n",
       " [datetime.datetime(2018, 9, 20, 17, 16, 26, 990737), 226.73],\n",
       " [datetime.datetime(2018, 9, 20, 17, 16, 26, 990737), 234.375],\n",
       " [datetime.datetime(2018, 9, 20, 17, 16, 26, 990737), 241.914],\n",
       " [datetime.datetime(2018, 9, 20, 17, 16, 26, 990737), 249.57],\n",
       " [datetime.datetime(2018, 9, 20, 17, 16, 26, 990737), 257.038],\n",
       " [datetime.datetime(2018, 9, 20, 17, 16, 26, 990737), 264.308],\n",
       " [datetime.datetime(2018, 9, 20, 17, 16, 26, 990737), 271.586],\n",
       " [datetime.datetime(2018, 9, 20, 17, 16, 26, 990737), 278.886],\n",
       " [datetime.datetime(2018, 9, 20, 17, 16, 26, 990737), 286.124],\n",
       " [datetime.datetime(2018, 9, 20, 17, 16, 26, 990737), 293.41],\n",
       " [datetime.datetime(2018, 9, 20, 17, 16, 26, 990737), 300.691],\n",
       " [datetime.datetime(2018, 9, 20, 17, 16, 26, 990737), 307.97],\n",
       " [datetime.datetime(2018, 9, 20, 17, 16, 26, 990737), 315.236],\n",
       " [datetime.datetime(2018, 9, 20, 17, 16, 26, 990737), 322.503],\n",
       " [datetime.datetime(2018, 9, 20, 17, 16, 26, 990737), 329.85],\n",
       " [datetime.datetime(2018, 9, 20, 17, 16, 26, 990737), 337.319],\n",
       " [datetime.datetime(2018, 9, 20, 17, 16, 26, 990737), 344.679],\n",
       " [datetime.datetime(2018, 9, 20, 17, 16, 26, 990737), 352.112],\n",
       " [datetime.datetime(2018, 9, 20, 17, 16, 26, 990737), 361.072],\n",
       " [datetime.datetime(2018, 9, 20, 17, 16, 26, 990737), 368.358],\n",
       " [datetime.datetime(2018, 9, 20, 17, 16, 26, 990737), 375.67],\n",
       " [datetime.datetime(2018, 9, 20, 17, 16, 26, 990737), 382.936],\n",
       " [datetime.datetime(2018, 9, 20, 17, 16, 26, 990737), 390.24],\n",
       " [datetime.datetime(2018, 9, 20, 17, 16, 26, 990737), 397.782],\n",
       " [datetime.datetime(2018, 9, 20, 17, 16, 26, 990737), 405.541],\n",
       " [datetime.datetime(2018, 9, 20, 17, 16, 26, 990737), 413.27],\n",
       " [datetime.datetime(2018, 9, 20, 17, 16, 26, 990737), 420.642],\n",
       " [datetime.datetime(2018, 9, 20, 17, 16, 26, 990737), 427.886],\n",
       " [datetime.datetime(2018, 9, 20, 17, 16, 26, 990737), 435.202],\n",
       " [datetime.datetime(2018, 9, 20, 17, 16, 26, 990737), 442.635],\n",
       " [datetime.datetime(2018, 9, 20, 17, 16, 26, 990737), 450.316],\n",
       " [datetime.datetime(2018, 9, 20, 17, 16, 26, 990737), 458.438],\n",
       " [datetime.datetime(2018, 9, 20, 17, 16, 26, 990737), 466.173],\n",
       " [datetime.datetime(2018, 9, 20, 17, 16, 26, 990737), 473.587],\n",
       " [datetime.datetime(2018, 9, 20, 17, 16, 26, 990737), 480.961],\n",
       " [datetime.datetime(2018, 9, 20, 17, 16, 26, 990737), 488.37],\n",
       " [datetime.datetime(2018, 9, 20, 17, 16, 26, 990737), 495.63],\n",
       " [datetime.datetime(2018, 9, 20, 17, 16, 26, 990737), 502.854],\n",
       " [datetime.datetime(2018, 9, 20, 17, 16, 26, 990737), 510.054],\n",
       " [datetime.datetime(2018, 9, 20, 17, 16, 26, 990737), 517.303],\n",
       " [datetime.datetime(2018, 9, 20, 17, 16, 26, 990737), 524.541],\n",
       " [datetime.datetime(2018, 9, 20, 17, 16, 26, 990737), 531.756],\n",
       " [datetime.datetime(2018, 9, 20, 17, 16, 26, 990737), 538.96],\n",
       " [datetime.datetime(2018, 9, 20, 17, 16, 26, 990737), 546.153],\n",
       " [datetime.datetime(2018, 9, 20, 17, 16, 26, 990737), 553.366],\n",
       " [datetime.datetime(2018, 9, 20, 17, 16, 26, 990737), 560.562],\n",
       " [datetime.datetime(2018, 9, 20, 17, 16, 26, 990737), 567.765],\n",
       " [datetime.datetime(2018, 9, 20, 17, 16, 26, 990737), 575.061],\n",
       " [datetime.datetime(2018, 9, 20, 17, 16, 26, 990737), 582.283],\n",
       " [datetime.datetime(2018, 9, 20, 17, 16, 26, 990737), 589.528],\n",
       " [datetime.datetime(2018, 9, 20, 17, 16, 26, 990737), 596.773],\n",
       " [datetime.datetime(2018, 9, 20, 17, 16, 26, 990737), 603.993],\n",
       " [datetime.datetime(2018, 9, 20, 17, 16, 26, 990737), 611.22],\n",
       " [datetime.datetime(2018, 9, 20, 17, 16, 26, 990737), 618.431],\n",
       " [datetime.datetime(2018, 9, 20, 17, 16, 26, 990737), 625.649],\n",
       " [datetime.datetime(2018, 9, 20, 17, 16, 26, 990737), 632.881],\n",
       " [datetime.datetime(2018, 9, 20, 17, 16, 26, 990737), 640.102],\n",
       " [datetime.datetime(2018, 9, 20, 17, 16, 26, 990737), 647.312],\n",
       " [datetime.datetime(2018, 9, 20, 17, 16, 26, 990737), 654.574],\n",
       " [datetime.datetime(2018, 9, 20, 17, 16, 26, 990737), 661.761],\n",
       " [datetime.datetime(2018, 9, 20, 17, 16, 26, 990737), 668.962],\n",
       " [datetime.datetime(2018, 9, 20, 17, 16, 26, 990737), 676.175],\n",
       " [datetime.datetime(2018, 9, 20, 17, 16, 26, 990737), 683.666],\n",
       " [datetime.datetime(2018, 9, 20, 17, 16, 26, 990737), 690.953],\n",
       " [datetime.datetime(2018, 9, 20, 17, 16, 26, 990737), 698.238],\n",
       " [datetime.datetime(2018, 9, 20, 17, 16, 26, 990737), 705.524],\n",
       " [datetime.datetime(2018, 9, 20, 17, 16, 26, 990737), 712.932],\n",
       " [datetime.datetime(2018, 9, 20, 17, 16, 26, 990737), 720.241],\n",
       " [datetime.datetime(2018, 9, 20, 17, 16, 26, 990737), 727.518],\n",
       " [datetime.datetime(2018, 9, 20, 17, 16, 26, 990737), 735.031]]"
      ]
     },
     "execution_count": 283,
     "metadata": {},
     "output_type": "execute_result"
    }
   ],
   "source": [
    "runtime"
   ]
  },
  {
   "cell_type": "code",
   "execution_count": 273,
   "metadata": {
    "collapsed": true
   },
   "outputs": [],
   "source": [
    "sweepdf.index=t"
   ]
  },
  {
   "cell_type": "code",
   "execution_count": 27,
   "metadata": {},
   "outputs": [
    {
     "ename": "NameError",
     "evalue": "name 'sweepdf' is not defined",
     "output_type": "error",
     "traceback": [
      "\u001b[1;31m---------------------------------------------------------------------------\u001b[0m",
      "\u001b[1;31mNameError\u001b[0m                                 Traceback (most recent call last)",
      "\u001b[1;32m<ipython-input-27-3ad4c751cf27>\u001b[0m in \u001b[0;36m<module>\u001b[1;34m()\u001b[0m\n\u001b[1;32m----> 1\u001b[1;33m \u001b[0mplt\u001b[0m\u001b[1;33m.\u001b[0m\u001b[0mplot\u001b[0m\u001b[1;33m(\u001b[0m\u001b[0msweepdf\u001b[0m\u001b[1;33m[\u001b[0m\u001b[1;33m(\u001b[0m\u001b[1;36m1050\u001b[0m\u001b[1;33m,\u001b[0m\u001b[1;36m1410\u001b[0m\u001b[1;33m)\u001b[0m\u001b[1;33m]\u001b[0m\u001b[1;33m.\u001b[0m\u001b[0miloc\u001b[0m\u001b[1;33m[\u001b[0m\u001b[1;36m3577\u001b[0m\u001b[1;33m:\u001b[0m\u001b[1;36m10000\u001b[0m\u001b[1;33m]\u001b[0m\u001b[1;33m)\u001b[0m\u001b[1;33m\u001b[0m\u001b[0m\n\u001b[0m\u001b[0;32m      2\u001b[0m \u001b[0mplt\u001b[0m\u001b[1;33m.\u001b[0m\u001b[0mylim\u001b[0m\u001b[1;33m(\u001b[0m\u001b[1;36m0\u001b[0m\u001b[1;33m,\u001b[0m\u001b[1;36m2000\u001b[0m\u001b[1;33m)\u001b[0m\u001b[1;33m\u001b[0m\u001b[0m\n",
      "\u001b[1;31mNameError\u001b[0m: name 'sweepdf' is not defined"
     ]
    }
   ],
   "source": [
    "plt.plot(sweepdf[(1050,1410)].iloc[3577:10000])\n",
    "plt.ylim(0,2000)"
   ]
  },
  {
   "cell_type": "code",
   "execution_count": 264,
   "metadata": {},
   "outputs": [
    {
     "data": {
      "text/plain": [
       "2548.0920582389967"
      ]
     },
     "execution_count": 264,
     "metadata": {},
     "output_type": "execute_result"
    }
   ],
   "source": [
    "max(wls)"
   ]
  },
  {
   "cell_type": "code",
   "execution_count": 157,
   "metadata": {},
   "outputs": [
    {
     "data": {
      "text/plain": [
       "2978.425630449069"
      ]
     },
     "execution_count": 157,
     "metadata": {},
     "output_type": "execute_result"
    }
   ],
   "source": [
    "np.e**(6.626176e-34*3e8/(1800*1.3806e-23*1e-6))"
   ]
  },
  {
   "cell_type": "code",
   "execution_count": 154,
   "metadata": {},
   "outputs": [
    {
     "data": {
      "text/plain": [
       "2.4850799999999997e-26"
      ]
     },
     "execution_count": 154,
     "metadata": {},
     "output_type": "execute_result"
    }
   ],
   "source": [
    "1800*1.3806e-23*1e-6"
   ]
  },
  {
   "cell_type": "code",
   "execution_count": 182,
   "metadata": {},
   "outputs": [
    {
     "data": {
      "text/plain": [
       "15996"
      ]
     },
     "execution_count": 182,
     "metadata": {},
     "output_type": "execute_result"
    }
   ],
   "source": [
    "len(T)"
   ]
  },
  {
   "cell_type": "code",
   "execution_count": 235,
   "metadata": {},
   "outputs": [
    {
     "name": "stdout",
     "output_type": "stream",
     "text": [
      "Help on method from_product in module pandas.core.indexes.multi:\n",
      "\n",
      "from_product(iterables, sortorder=None, names=None) method of builtins.type instance\n",
      "    Make a MultiIndex from the cartesian product of multiple iterables\n",
      "    \n",
      "    Parameters\n",
      "    ----------\n",
      "    iterables : list / sequence of iterables\n",
      "        Each iterable has unique labels for each level of the index.\n",
      "    sortorder : int or None\n",
      "        Level of sortedness (must be lexicographically sorted by that\n",
      "        level).\n",
      "    names : list / sequence of strings or None\n",
      "        Names for the levels in the index.\n",
      "    \n",
      "    Returns\n",
      "    -------\n",
      "    index : MultiIndex\n",
      "    \n",
      "    Examples\n",
      "    --------\n",
      "    >>> numbers = [0, 1, 2]\n",
      "    >>> colors = [u'green', u'purple']\n",
      "    >>> MultiIndex.from_product([numbers, colors],\n",
      "                                 names=['number', 'color'])\n",
      "    MultiIndex(levels=[[0, 1, 2], [u'green', u'purple']],\n",
      "               labels=[[0, 0, 1, 1, 2, 2], [0, 1, 0, 1, 0, 1]],\n",
      "               names=[u'number', u'color'])\n",
      "    \n",
      "    See Also\n",
      "    --------\n",
      "    MultiIndex.from_arrays : Convert list of arrays to MultiIndex\n",
      "    MultiIndex.from_tuples : Convert list of tuples to MultiIndex\n",
      "\n"
     ]
    }
   ],
   "source": [
    "help(pd.MultiIndex.from_product)"
   ]
  },
  {
   "cell_type": "code",
   "execution_count": null,
   "metadata": {
    "collapsed": true
   },
   "outputs": [],
   "source": []
  }
 ],
 "metadata": {
  "kernelspec": {
   "display_name": "Python 3",
   "language": "python",
   "name": "python3"
  },
  "language_info": {
   "codemirror_mode": {
    "name": "ipython",
    "version": 3
   },
   "file_extension": ".py",
   "mimetype": "text/x-python",
   "name": "python",
   "nbconvert_exporter": "python",
   "pygments_lexer": "ipython3",
   "version": "3.6.3"
  }
 },
 "nbformat": 4,
 "nbformat_minor": 2
}
