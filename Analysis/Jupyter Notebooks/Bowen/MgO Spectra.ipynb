{
 "cells": [
  {
   "cell_type": "code",
   "execution_count": 4,
   "metadata": {},
   "outputs": [],
   "source": [
    "from nptdms import TdmsFile as TF\n",
    "import sys, os\n",
    "import pandas as pd\n",
    "import numpy as np\n",
    "\n",
    "import matplotlib as mpl\n",
    "import matplotlib.pyplot as plt"
   ]
  },
  {
   "cell_type": "code",
   "execution_count": 109,
   "metadata": {},
   "outputs": [
    {
     "ename": "ModuleNotFoundError",
     "evalue": "No module named 'mhdpy'",
     "output_type": "error",
     "traceback": [
      "\u001b[1;31m---------------------------------------------------------------------------\u001b[0m",
      "\u001b[1;31mModuleNotFoundError\u001b[0m                       Traceback (most recent call last)",
      "\u001b[1;32m<ipython-input-109-00a3c6fa6242>\u001b[0m in \u001b[0;36m<module>\u001b[1;34m()\u001b[0m\n\u001b[1;32m----> 1\u001b[1;33m \u001b[1;32mimport\u001b[0m \u001b[0mmhdpy\u001b[0m\u001b[1;33m\u001b[0m\u001b[0m\n\u001b[0m",
      "\u001b[1;31mModuleNotFoundError\u001b[0m: No module named 'mhdpy'"
     ]
    }
   ],
   "source": [
    "import mhdpy"
   ]
  },
  {
   "cell_type": "code",
   "execution_count": 5,
   "metadata": {},
   "outputs": [],
   "source": [
    "def create_tcdict(filepaths, loadfn, prefix = None ):\n",
    "    \"\"\"takes in a list of files and a load function, and creates a dict of a df for each file. If a prefix is passed, that is removed from the filename (typically the instrument name so only the test case is left as the dict key)\"\"\"\n",
    "\n",
    "    dfs = {}\n",
    "\n",
    "    for filepath in filepaths:\n",
    "        filename = os.path.split(filepath)[1]\n",
    "        testcase = os.path.splitext(filename)[0]\n",
    "\n",
    "        if prefix != None:\n",
    "            testcase = _remove_prefix(testcase,prefix)\n",
    "\n",
    "        df =  loadfn(filepath)\n",
    "        dfs[testcase] =df\n",
    "    \n",
    "    return dfs"
   ]
  },
  {
   "cell_type": "code",
   "execution_count": 6,
   "metadata": {},
   "outputs": [],
   "source": [
    "def ocop2df(filepath,):\n",
    "    file = TF(filepath)\n",
    "    df = file.object(file.groups()[2]).as_dataframe()\n",
    "    df.index = file.object('Global', \"Wavelength\").data\n",
    "    indexarr = list(zip(*[file.object('Global', 'MP Pos').data,file.object('Global', 'Time').data]))\n",
    "    df.columns = pd.MultiIndex.from_tuples(indexarr, names = ['MP','Wavelength'])\n",
    "    print(filepath)\n",
    "    return df"
   ]
  },
  {
   "cell_type": "code",
   "execution_count": 16,
   "metadata": {},
   "outputs": [],
   "source": [
    "T = [1039, 1050, 1145, 1180, 1200]\n",
    "Spcm = ['Flame', 'NIRQuest512']\n",
    "names = []\n",
    "filenames = []\n",
    "path = 'Z:\\\\Test Data\\\\Raw Data\\\\Materials Testing\\\\2018-10-15\\\\UnspecifiedProj\\\\Measure\\\\'\n",
    "for t in T:\n",
    "    for s in Spcm:\n",
    "        names.append(s+'_'+str(t)+'C')\n",
    "        filenames.append((path+s+'_'+str(t)+'C.tdms'))"
   ]
  },
  {
   "cell_type": "code",
   "execution_count": 10,
   "metadata": {},
   "outputs": [
    {
     "name": "stderr",
     "output_type": "stream",
     "text": [
      "C:\\Users\\bowenm\\AppData\\Local\\Continuum\\anaconda3\\lib\\site-packages\\nptdms\\tdms.py:772: FutureWarning: from_items is deprecated. Please use DataFrame.from_dict(dict(items), ...) instead. DataFrame.from_dict(OrderedDict(items)) may be used to preserve the key order.\n",
      "  for ch in self.tdms_file.group_channels(self.group)])\n"
     ]
    },
    {
     "name": "stdout",
     "output_type": "stream",
     "text": [
      "Z:\\Test Data\\Raw Data\\Materials Testing\\2018-10-15\\UnspecifiedProj\\Measure\\Flame_1039C.tdms\n",
      "Z:\\Test Data\\Raw Data\\Materials Testing\\2018-10-15\\UnspecifiedProj\\Measure\\NIRQuest512_1039C.tdms\n",
      "Z:\\Test Data\\Raw Data\\Materials Testing\\2018-10-15\\UnspecifiedProj\\Measure\\Flame_1050C.tdms\n",
      "Z:\\Test Data\\Raw Data\\Materials Testing\\2018-10-15\\UnspecifiedProj\\Measure\\NIRQuest512_1050C.tdms\n",
      "Z:\\Test Data\\Raw Data\\Materials Testing\\2018-10-15\\UnspecifiedProj\\Measure\\Flame_1145C.tdms\n",
      "Z:\\Test Data\\Raw Data\\Materials Testing\\2018-10-15\\UnspecifiedProj\\Measure\\NIRQuest512_1145C.tdms\n",
      "Z:\\Test Data\\Raw Data\\Materials Testing\\2018-10-15\\UnspecifiedProj\\Measure\\Flame_1180C.tdms\n",
      "Z:\\Test Data\\Raw Data\\Materials Testing\\2018-10-15\\UnspecifiedProj\\Measure\\NIRQuest512_1180C.tdms\n",
      "Z:\\Test Data\\Raw Data\\Materials Testing\\2018-10-15\\UnspecifiedProj\\Measure\\Flame_1200C.tdms\n",
      "Z:\\Test Data\\Raw Data\\Materials Testing\\2018-10-15\\UnspecifiedProj\\Measure\\NIRQuest512_1200C.tdms\n"
     ]
    }
   ],
   "source": [
    "dfs = create_tcdict(filenames, ocop2df)"
   ]
  },
  {
   "cell_type": "code",
   "execution_count": 12,
   "metadata": {},
   "outputs": [
    {
     "data": {
      "image/png": "[encoded data removed]",
      "text/plain": [
       "<Figure size 576x360 with 1 Axes>"
      ]
     },
     "metadata": {
      "needs_background": "light"
     },
     "output_type": "display_data"
    }
   ],
   "source": [
    "image = plt.figure(figsize=(8,5))\n",
    "for temp in T:\n",
    "    image.clear()\n",
    "    plt.plot(dfs[Spcm[0]+'_'+str(temp)+'C'][0].mean(axis=1), c='b')\n",
    "    plt.plot(dfs[Spcm[1]+'_'+str(temp)+'C'][1].mean(axis=1), c='b')\n",
    "    plt.title('Temp = ' + str(temp))\n",
    "    plt.ylabel('Intensity')\n",
    "    plt.xlabel('Wavelength')\n",
    "    plt.ylim(-50,800)\n",
    "    image.savefig('MgO Black Body Curve T='+str(temp))"
   ]
  },
  {
   "cell_type": "code",
   "execution_count": 88,
   "metadata": {},
   "outputs": [],
   "source": [
    "def twocolortemp(wl1,wl2,s):\n",
    "    c2 = 14394264.78261\n",
    "    wi1 = np.where(np.abs(s.index - wl1)<3.28)[0][0]\n",
    "    wi2 = np.where(np.abs(s.index - wl2)<3.28)[0][0]\n",
    "    e1 = np.mean(s.iloc[wi1-5:wi1+5])\n",
    "    e2 = np.mean(s.iloc[wi2-5:wi2+5])\n",
    "    num = c2*((1/wl1)-(1/wl2))\n",
    "    den = -np.log(e1*wl1**5)+np.log(e2*wl2**5)\n",
    "    #return e2\n",
    "    return num/den"
   ]
  },
  {
   "cell_type": "code",
   "execution_count": 94,
   "metadata": {},
   "outputs": [
    {
     "name": "stdout",
     "output_type": "stream",
     "text": [
      "900 1050\n",
      "[nan, nan, nan, nan, nan]\n",
      "950 1100\n",
      "[nan, nan, nan, nan, nan]\n",
      "1000 1150\n",
      "[nan, nan, nan, nan, nan]\n",
      "1050 1200\n"
     ]
    },
    {
     "name": "stderr",
     "output_type": "stream",
     "text": [
      "C:\\Users\\bowenm\\AppData\\Local\\Continuum\\anaconda3\\lib\\site-packages\\ipykernel_launcher.py:8: RuntimeWarning: invalid value encountered in log\n",
      "  \n",
      "C:\\Users\\bowenm\\AppData\\Local\\Continuum\\anaconda3\\lib\\site-packages\\ipykernel_launcher.py:8: RuntimeWarning: invalid value encountered in log\n",
      "  \n",
      "C:\\Users\\bowenm\\AppData\\Local\\Continuum\\anaconda3\\lib\\site-packages\\ipykernel_launcher.py:8: RuntimeWarning: invalid value encountered in log\n",
      "  \n",
      "C:\\Users\\bowenm\\AppData\\Local\\Continuum\\anaconda3\\lib\\site-packages\\ipykernel_launcher.py:8: RuntimeWarning: invalid value encountered in log\n",
      "  \n",
      "C:\\Users\\bowenm\\AppData\\Local\\Continuum\\anaconda3\\lib\\site-packages\\ipykernel_launcher.py:8: RuntimeWarning: invalid value encountered in log\n",
      "  \n",
      "C:\\Users\\bowenm\\AppData\\Local\\Continuum\\anaconda3\\lib\\site-packages\\ipykernel_launcher.py:8: RuntimeWarning: invalid value encountered in log\n",
      "  \n",
      "C:\\Users\\bowenm\\AppData\\Local\\Continuum\\anaconda3\\lib\\site-packages\\ipykernel_launcher.py:8: RuntimeWarning: invalid value encountered in log\n",
      "  \n",
      "C:\\Users\\bowenm\\AppData\\Local\\Continuum\\anaconda3\\lib\\site-packages\\ipykernel_launcher.py:8: RuntimeWarning: invalid value encountered in log\n",
      "  \n",
      "C:\\Users\\bowenm\\AppData\\Local\\Continuum\\anaconda3\\lib\\site-packages\\ipykernel_launcher.py:8: RuntimeWarning: invalid value encountered in log\n",
      "  \n",
      "C:\\Users\\bowenm\\AppData\\Local\\Continuum\\anaconda3\\lib\\site-packages\\ipykernel_launcher.py:8: RuntimeWarning: invalid value encountered in log\n",
      "  \n",
      "C:\\Users\\bowenm\\AppData\\Local\\Continuum\\anaconda3\\lib\\site-packages\\ipykernel_launcher.py:8: RuntimeWarning: invalid value encountered in log\n",
      "  \n",
      "C:\\Users\\bowenm\\AppData\\Local\\Continuum\\anaconda3\\lib\\site-packages\\ipykernel_launcher.py:8: RuntimeWarning: invalid value encountered in log\n",
      "  \n",
      "C:\\Users\\bowenm\\AppData\\Local\\Continuum\\anaconda3\\lib\\site-packages\\ipykernel_launcher.py:8: RuntimeWarning: invalid value encountered in log\n",
      "  \n",
      "C:\\Users\\bowenm\\AppData\\Local\\Continuum\\anaconda3\\lib\\site-packages\\ipykernel_launcher.py:8: RuntimeWarning: invalid value encountered in log\n",
      "  \n",
      "C:\\Users\\bowenm\\AppData\\Local\\Continuum\\anaconda3\\lib\\site-packages\\ipykernel_launcher.py:8: RuntimeWarning: invalid value encountered in log\n",
      "  \n"
     ]
    },
    {
     "name": "stdout",
     "output_type": "stream",
     "text": [
      "[-2450.89202242011, -2704.404507065443, -2365.336765905034, -2376.22487291266, -2137.981654134507]\n",
      "1100 1250\n",
      "[nan, nan, nan, nan, nan]\n",
      "1150 1300\n",
      "[nan, nan, nan, nan, nan]\n",
      "1200 1350\n",
      "[-4810.210634588567, -4640.516199869746, -4036.5937857776207, -3531.171421795587, -3884.3268576935484]\n",
      "1250 1400\n"
     ]
    },
    {
     "name": "stderr",
     "output_type": "stream",
     "text": [
      "C:\\Users\\bowenm\\AppData\\Local\\Continuum\\anaconda3\\lib\\site-packages\\ipykernel_launcher.py:8: RuntimeWarning: invalid value encountered in log\n",
      "  \n",
      "C:\\Users\\bowenm\\AppData\\Local\\Continuum\\anaconda3\\lib\\site-packages\\ipykernel_launcher.py:8: RuntimeWarning: invalid value encountered in log\n",
      "  \n",
      "C:\\Users\\bowenm\\AppData\\Local\\Continuum\\anaconda3\\lib\\site-packages\\ipykernel_launcher.py:8: RuntimeWarning: invalid value encountered in log\n",
      "  \n",
      "C:\\Users\\bowenm\\AppData\\Local\\Continuum\\anaconda3\\lib\\site-packages\\ipykernel_launcher.py:8: RuntimeWarning: invalid value encountered in log\n",
      "  \n",
      "C:\\Users\\bowenm\\AppData\\Local\\Continuum\\anaconda3\\lib\\site-packages\\ipykernel_launcher.py:8: RuntimeWarning: invalid value encountered in log\n",
      "  \n",
      "C:\\Users\\bowenm\\AppData\\Local\\Continuum\\anaconda3\\lib\\site-packages\\ipykernel_launcher.py:8: RuntimeWarning: invalid value encountered in log\n",
      "  \n",
      "C:\\Users\\bowenm\\AppData\\Local\\Continuum\\anaconda3\\lib\\site-packages\\ipykernel_launcher.py:8: RuntimeWarning: invalid value encountered in log\n",
      "  \n",
      "C:\\Users\\bowenm\\AppData\\Local\\Continuum\\anaconda3\\lib\\site-packages\\ipykernel_launcher.py:8: RuntimeWarning: invalid value encountered in log\n",
      "  \n",
      "C:\\Users\\bowenm\\AppData\\Local\\Continuum\\anaconda3\\lib\\site-packages\\ipykernel_launcher.py:8: RuntimeWarning: invalid value encountered in log\n",
      "  \n",
      "C:\\Users\\bowenm\\AppData\\Local\\Continuum\\anaconda3\\lib\\site-packages\\ipykernel_launcher.py:8: RuntimeWarning: invalid value encountered in log\n",
      "  \n",
      "C:\\Users\\bowenm\\AppData\\Local\\Continuum\\anaconda3\\lib\\site-packages\\ipykernel_launcher.py:8: RuntimeWarning: invalid value encountered in log\n",
      "  \n",
      "C:\\Users\\bowenm\\AppData\\Local\\Continuum\\anaconda3\\lib\\site-packages\\ipykernel_launcher.py:8: RuntimeWarning: invalid value encountered in log\n",
      "  \n",
      "C:\\Users\\bowenm\\AppData\\Local\\Continuum\\anaconda3\\lib\\site-packages\\ipykernel_launcher.py:8: RuntimeWarning: invalid value encountered in log\n",
      "  \n",
      "C:\\Users\\bowenm\\AppData\\Local\\Continuum\\anaconda3\\lib\\site-packages\\ipykernel_launcher.py:8: RuntimeWarning: invalid value encountered in log\n",
      "  \n"
     ]
    },
    {
     "name": "stdout",
     "output_type": "stream",
     "text": [
      "[nan, nan, nan, nan, nan]\n",
      "1300 1450\n",
      "[nan, nan, nan, nan, nan]\n",
      "1350 1500\n",
      "[nan, nan, nan, nan, nan]\n",
      "1400 1550\n",
      "[nan, nan, nan, nan, nan]\n",
      "1450 1600\n"
     ]
    },
    {
     "name": "stderr",
     "output_type": "stream",
     "text": [
      "C:\\Users\\bowenm\\AppData\\Local\\Continuum\\anaconda3\\lib\\site-packages\\ipykernel_launcher.py:8: RuntimeWarning: invalid value encountered in log\n",
      "  \n",
      "C:\\Users\\bowenm\\AppData\\Local\\Continuum\\anaconda3\\lib\\site-packages\\ipykernel_launcher.py:8: RuntimeWarning: invalid value encountered in log\n",
      "  \n",
      "C:\\Users\\bowenm\\AppData\\Local\\Continuum\\anaconda3\\lib\\site-packages\\ipykernel_launcher.py:8: RuntimeWarning: invalid value encountered in log\n",
      "  \n",
      "C:\\Users\\bowenm\\AppData\\Local\\Continuum\\anaconda3\\lib\\site-packages\\ipykernel_launcher.py:8: RuntimeWarning: invalid value encountered in log\n",
      "  \n",
      "C:\\Users\\bowenm\\AppData\\Local\\Continuum\\anaconda3\\lib\\site-packages\\ipykernel_launcher.py:8: RuntimeWarning: invalid value encountered in log\n",
      "  \n",
      "C:\\Users\\bowenm\\AppData\\Local\\Continuum\\anaconda3\\lib\\site-packages\\ipykernel_launcher.py:8: RuntimeWarning: invalid value encountered in log\n",
      "  \n",
      "C:\\Users\\bowenm\\AppData\\Local\\Continuum\\anaconda3\\lib\\site-packages\\ipykernel_launcher.py:8: RuntimeWarning: invalid value encountered in log\n",
      "  \n",
      "C:\\Users\\bowenm\\AppData\\Local\\Continuum\\anaconda3\\lib\\site-packages\\ipykernel_launcher.py:8: RuntimeWarning: invalid value encountered in log\n",
      "  \n",
      "C:\\Users\\bowenm\\AppData\\Local\\Continuum\\anaconda3\\lib\\site-packages\\ipykernel_launcher.py:8: RuntimeWarning: invalid value encountered in log\n",
      "  \n",
      "C:\\Users\\bowenm\\AppData\\Local\\Continuum\\anaconda3\\lib\\site-packages\\ipykernel_launcher.py:8: RuntimeWarning: invalid value encountered in log\n",
      "  \n",
      "C:\\Users\\bowenm\\AppData\\Local\\Continuum\\anaconda3\\lib\\site-packages\\ipykernel_launcher.py:8: RuntimeWarning: invalid value encountered in log\n",
      "  \n",
      "C:\\Users\\bowenm\\AppData\\Local\\Continuum\\anaconda3\\lib\\site-packages\\ipykernel_launcher.py:8: RuntimeWarning: invalid value encountered in log\n",
      "  \n",
      "C:\\Users\\bowenm\\AppData\\Local\\Continuum\\anaconda3\\lib\\site-packages\\ipykernel_launcher.py:8: RuntimeWarning: invalid value encountered in log\n",
      "  \n",
      "C:\\Users\\bowenm\\AppData\\Local\\Continuum\\anaconda3\\lib\\site-packages\\ipykernel_launcher.py:8: RuntimeWarning: invalid value encountered in log\n",
      "  \n",
      "C:\\Users\\bowenm\\AppData\\Local\\Continuum\\anaconda3\\lib\\site-packages\\ipykernel_launcher.py:8: RuntimeWarning: invalid value encountered in log\n",
      "  \n",
      "C:\\Users\\bowenm\\AppData\\Local\\Continuum\\anaconda3\\lib\\site-packages\\ipykernel_launcher.py:8: RuntimeWarning: invalid value encountered in log\n",
      "  \n",
      "C:\\Users\\bowenm\\AppData\\Local\\Continuum\\anaconda3\\lib\\site-packages\\ipykernel_launcher.py:8: RuntimeWarning: invalid value encountered in log\n",
      "  \n",
      "C:\\Users\\bowenm\\AppData\\Local\\Continuum\\anaconda3\\lib\\site-packages\\ipykernel_launcher.py:8: RuntimeWarning: invalid value encountered in log\n",
      "  \n",
      "C:\\Users\\bowenm\\AppData\\Local\\Continuum\\anaconda3\\lib\\site-packages\\ipykernel_launcher.py:8: RuntimeWarning: invalid value encountered in log\n",
      "  \n",
      "C:\\Users\\bowenm\\AppData\\Local\\Continuum\\anaconda3\\lib\\site-packages\\ipykernel_launcher.py:8: RuntimeWarning: invalid value encountered in log\n",
      "  \n"
     ]
    },
    {
     "name": "stdout",
     "output_type": "stream",
     "text": [
      "[nan, nan, nan, nan, nan]\n",
      "1500 1650\n",
      "[nan, nan, nan, nan, nan]\n"
     ]
    },
    {
     "name": "stderr",
     "output_type": "stream",
     "text": [
      "C:\\Users\\bowenm\\AppData\\Local\\Continuum\\anaconda3\\lib\\site-packages\\ipykernel_launcher.py:8: RuntimeWarning: invalid value encountered in log\n",
      "  \n"
     ]
    }
   ],
   "source": [
    "w=np.arange(900,1550,50)\n",
    "bbt = np.zeros((len(w),5))\n",
    "for i, wa in enumerate(w):\n",
    "    wb = wa+150\n",
    "    BBT = []\n",
    "    for temp in T:\n",
    "        s = dfs[Spcm[1]+'_'+str(temp)+'C'][1].mean(axis=1)\n",
    "        BBT.append(twocolortemp(wa,wb,s))\n",
    "    print(BBT)\n",
    "    bbt[i] = BBT\n",
    "#plt.plot(df.columns, T, label='PostMeas')\n",
    "#plt.plot(, Trt['Color Temp 1-2'])\n",
    "#plt.plot(Trt2['Time'], Trt2['Temp'+str(wa)+'-'+str(wb)], label='RealTime')\n",
    "#plt.ylim(-100,3000)\n",
    "#plt.xlim(8000,10000)\n",
    "#plt.legend()"
   ]
  },
  {
   "cell_type": "code",
   "execution_count": 107,
   "metadata": {},
   "outputs": [
    {
     "name": "stdout",
     "output_type": "stream",
     "text": [
      "1736.671576231148\n",
      "1641.3628212894862\n",
      "1901.5345279442492\n",
      "1641.921437228604\n",
      "2006.4751714077677\n"
     ]
    }
   ],
   "source": [
    "for temp in T:\n",
    "    s = dfs[Spcm[1]+'_'+str(temp)+'C'][1].mean(axis=1)\n",
    "    print(twocolortemp(1000,1150,s))"
   ]
  },
  {
   "cell_type": "code",
   "execution_count": 108,
   "metadata": {},
   "outputs": [
    {
     "data": {
      "text/plain": [
       "[1039, 1050, 1145, 1180, 1200]"
      ]
     },
     "execution_count": 108,
     "metadata": {},
     "output_type": "execute_result"
    }
   ],
   "source": [
    "T"
   ]
  },
  {
   "cell_type": "code",
   "execution_count": 85,
   "metadata": {},
   "outputs": [
    {
     "data": {
      "text/plain": [
       "array([[   2007.8181655 ,    4921.05808092,    3357.26018008,\n",
       "           1972.53037637,    5385.56714449],\n",
       "       [             nan,              nan,              nan,\n",
       "                     nan,              nan],\n",
       "       [             nan,              nan,              nan,\n",
       "                     nan,              nan],\n",
       "       [-119960.47910864,  256965.76896851,   -5606.82009425,\n",
       "          -7829.99250549,   -6677.59721023],\n",
       "       [             nan,              nan,              nan,\n",
       "                     nan,              nan],\n",
       "       [             nan,              nan,              nan,\n",
       "                     nan,              nan],\n",
       "       [  -2004.88007718,   -1859.786422  ,   -2164.9937004 ,\n",
       "          -2153.44845199,   -2353.95736636],\n",
       "       [             nan,              nan,              nan,\n",
       "                     nan,              nan],\n",
       "       [             nan,              nan,              nan,\n",
       "                     nan,              nan],\n",
       "       [             nan,              nan,              nan,\n",
       "                     nan,              nan],\n",
       "       [             nan,              nan,              nan,\n",
       "                     nan,              nan],\n",
       "       [             nan,              nan,              nan,\n",
       "                     nan,              nan],\n",
       "       [             nan,              nan,              nan,\n",
       "                     nan,              nan]])"
      ]
     },
     "execution_count": 85,
     "metadata": {},
     "output_type": "execute_result"
    }
   ],
   "source": [
    "bbt"
   ]
  },
  {
   "cell_type": "code",
   "execution_count": 45,
   "metadata": {},
   "outputs": [],
   "source": [
    "bbt = np.zeros((len(w),5))"
   ]
  },
  {
   "cell_type": "code",
   "execution_count": 69,
   "metadata": {},
   "outputs": [
    {
     "data": {
      "text/plain": [
       "[1039, 1050, 1145, 1180, 1200]"
      ]
     },
     "execution_count": 69,
     "metadata": {},
     "output_type": "execute_result"
    }
   ],
   "source": [
    "T"
   ]
  },
  {
   "cell_type": "code",
   "execution_count": 44,
   "metadata": {},
   "outputs": [
    {
     "data": {
      "text/plain": [
       "array([[0., 0., 0., 0., 0.],\n",
       "       [0., 0., 0., 0., 0.],\n",
       "       [0., 0., 0., 0., 0.],\n",
       "       [0., 0., 0., 0., 0.],\n",
       "       [0., 0., 0., 0., 0.]])"
      ]
     },
     "execution_count": 44,
     "metadata": {},
     "output_type": "execute_result"
    }
   ],
   "source": [
    "np.zeros((5,5))"
   ]
  },
  {
   "cell_type": "code",
   "execution_count": null,
   "metadata": {},
   "outputs": [],
   "source": []
  }
 ],
 "metadata": {
  "kernelspec": {
   "display_name": "Python 3",
   "language": "python",
   "name": "python3"
  },
  "language_info": {
   "codemirror_mode": {
    "name": "ipython",
    "version": 3
   },
   "file_extension": ".py",
   "mimetype": "text/x-python",
   "name": "python",
   "nbconvert_exporter": "python",
   "pygments_lexer": "ipython3",
   "version": "3.7.0"
  }
 },
 "nbformat": 4,
 "nbformat_minor": 2
}
