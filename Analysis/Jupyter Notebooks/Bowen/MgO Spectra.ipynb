{
 "cells": [
  {
   "cell_type": "code",
   "execution_count": 11,
   "metadata": {
    "collapsed": true
   },
   "outputs": [],
   "source": [
    "from nptdms import TdmsFile as TF\n",
    "import sys, os\n",
    "import pandas as pd\n",
    "import numpy as np\n",
    "\n",
    "import matplotlib as mpl\n",
    "import matplotlib.pyplot as plt"
   ]
  },
  {
   "cell_type": "code",
   "execution_count": 1,
   "metadata": {
    "collapsed": true
   },
   "outputs": [],
   "source": [
    "import mhdpy"
   ]
  },
  {
   "cell_type": "code",
   "execution_count": 6,
   "metadata": {},
   "outputs": [
    {
     "data": {
      "text/plain": [
       "'C:\\\\ProgramData\\\\Anaconda3\\\\lib\\\\site-packages\\\\numpy\\\\__init__.py'"
      ]
     },
     "execution_count": 6,
     "metadata": {},
     "output_type": "execute_result"
    }
   ],
   "source": []
  },
  {
   "cell_type": "code",
   "execution_count": 2,
   "metadata": {
    "collapsed": true
   },
   "outputs": [],
   "source": [
    "def create_tcdict(filepaths, loadfn, prefix = None ):\n",
    "    \"\"\"takes in a list of files and a load function, and creates a dict of a df for each file. If a prefix is passed, that is removed from the filename (typically the instrument name so only the test case is left as the dict key)\"\"\"\n",
    "\n",
    "    dfs = {}\n",
    "\n",
    "    for filepath in filepaths:\n",
    "        filename = os.path.split(filepath)[1]\n",
    "        testcase = os.path.splitext(filename)[0]\n",
    "\n",
    "        if prefix != None:\n",
    "            testcase = _remove_prefix(testcase,prefix)\n",
    "\n",
    "        df =  loadfn(filepath)\n",
    "        dfs[testcase] =df\n",
    "    \n",
    "    return dfs"
   ]
  },
  {
   "cell_type": "code",
   "execution_count": 3,
   "metadata": {
    "collapsed": true
   },
   "outputs": [],
   "source": [
    "def ocop2df(filepath,):\n",
    "    file = TF(filepath)\n",
    "    df = file.object(file.groups()[2]).as_dataframe()\n",
    "    df.index = file.object('Global', \"Wavelength\").data\n",
    "    indexarr = list(zip(*[file.object('Global', 'MP Pos').data,file.object('Global', 'Time').data]))\n",
    "    df.columns = pd.MultiIndex.from_tuples(indexarr, names = ['MP','Wavelength'])\n",
    "    print(filepath)\n",
    "    return df"
   ]
  },
  {
   "cell_type": "code",
   "execution_count": 4,
   "metadata": {
    "collapsed": true
   },
   "outputs": [],
   "source": [
    "T = [1039, 1050, 1145, 1180, 1200]\n",
    "Spcm = ['Flame', 'NIRQuest512']\n",
    "names = []\n",
    "filenames = []\n",
    "path = 'Z:\\\\Test Data\\\\Raw Data\\\\Materials Testing\\\\2018-10-15\\\\UnspecifiedProj\\\\Measure\\\\'\n",
    "for t in T:\n",
    "    for s in Spcm:\n",
    "        names.append(s+'_'+str(t)+'C')\n",
    "        filenames.append((path+s+'_'+str(t)+'C.tdms'))"
   ]
  },
  {
   "cell_type": "code",
   "execution_count": 9,
   "metadata": {},
   "outputs": [],
   "source": [
    "dfs = mhdpy.load.common.create_tcdict(filenames, mhdpy.load.ocop.ocop2df)"
   ]
  },
  {
   "cell_type": "code",
   "execution_count": 12,
   "metadata": {},
   "outputs": [],
   "source": [
    "image = plt.figure(figsize=(8,5))\n",
    "for temp in T:\n",
    "    image.clear()\n",
    "    plt.plot(dfs[Spcm[0]+'_'+str(temp)+'C'][0].mean(axis=1), c='b')\n",
    "    plt.plot(dfs[Spcm[1]+'_'+str(temp)+'C'][1].mean(axis=1), c='b')\n",
    "    plt.title('Temp = ' + str(temp))\n",
    "    plt.ylabel('Intensity')\n",
    "    plt.xlabel('Wavelength')\n",
    "    plt.ylim(-50,800)\n",
    "    image.savefig('MgO Black Body Curve T='+str(temp))"
   ]
  },
  {
   "cell_type": "code",
   "execution_count": 13,
   "metadata": {
    "collapsed": true
   },
   "outputs": [],
   "source": [
    "def twocolortemp(wl1,wl2,s):\n",
    "    c2 = 14394264.78261\n",
    "    wi1 = np.where(np.abs(s.index - wl1)<3.28)[0][0]\n",
    "    wi2 = np.where(np.abs(s.index - wl2)<3.28)[0][0]\n",
    "    e1 = np.mean(s.iloc[wi1-5:wi1+5])\n",
    "    e2 = np.mean(s.iloc[wi2-5:wi2+5])\n",
    "    num = c2*((1/wl1)-(1/wl2))\n",
    "    den = -np.log(e1*wl1**5)+np.log(e2*wl2**5)\n",
    "    #return e2\n",
    "    return num/den"
   ]
  },
  {
   "cell_type": "code",
   "execution_count": 14,
   "metadata": {},
   "outputs": [
    {
     "name": "stdout",
     "output_type": "stream",
     "text": [
      "[nan, nan, nan, nan, nan]\n",
      "[nan, nan, nan, nan, nan]\n",
      "[nan, nan, nan, nan, nan]\n",
      "[-2450.8920224201102, -2704.4045070654429, -2365.3367659050341, -2376.22487291266, -2137.9816541345072]\n",
      "[nan, nan, nan, nan, nan]\n",
      "[nan, nan, nan, nan, nan]\n",
      "[-4810.2106345885668, -4640.5161998697458, -4036.5937857776207, -3531.1714217955869, -3884.3268576935484]\n"
     ]
    },
    {
     "name": "stderr",
     "output_type": "stream",
     "text": [
      "C:\\ProgramData\\Anaconda3\\lib\\site-packages\\ipykernel_launcher.py:8: RuntimeWarning: invalid value encountered in log\n",
      "  \n"
     ]
    },
    {
     "name": "stdout",
     "output_type": "stream",
     "text": [
      "[nan, nan, nan, nan, nan]\n",
      "[nan, nan, nan, nan, nan]\n",
      "[nan, nan, nan, nan, nan]\n",
      "[nan, nan, nan, nan, nan]\n",
      "[nan, nan, nan, nan, nan]\n",
      "[nan, nan, nan, nan, nan]\n"
     ]
    }
   ],
   "source": [
    "w=np.arange(900,1550,50)\n",
    "bbt = []\n",
    "for i, wa in enumerate(w):\n",
    "    wb = wa+150\n",
    "    BBT = []\n",
    "    for temp in T:\n",
    "        s = dfs[Spcm[1]+'_'+str(temp)+'C'][1].mean(axis=1)\n",
    "        BBT.append(twocolortemp(wa,wb,s))\n",
    "        plt.plot(s)\n",
    "    print(BBT)\n",
    "    bbt.append(BBT)\n",
    "#plt.plot(df.columns, T, label='PostMeas')\n",
    "#plt.plot(, Trt['Color Temp 1-2'])\n",
    "#plt.plot(Trt2['Time'], Trt2['Temp'+str(wa)+'-'+str(wb)], label='RealTime')\n",
    "#plt.ylim(-100,3000)\n",
    "#plt.xlim(8000,10000)\n",
    "#plt.legend()"
   ]
  },
  {
   "cell_type": "code",
   "execution_count": 15,
   "metadata": {},
   "outputs": [
    {
     "name": "stdout",
     "output_type": "stream",
     "text": [
      "[1301.5103126151698, 1222.6762980654671, 1156.4678232351928, 1153.5903959017865, 1086.7896123731941, 1046.0072959915781, 1002.0547222630545]\n",
      "[1308.661351646701, 1198.4260158498951, 1153.1877068567567, 1138.5289328255608, 1083.3818582737886, 1087.1633543269593, 1032.7091664695638]\n",
      "[1340.6624540779108, 1301.224722425535, 1258.1352481390734, 1210.1320021253603, 1161.4809906602879, 1120.9565928624634, 1097.1800582864403]\n",
      "[1372.1248287555759, 1324.1983056724741, 1296.405717896195, 1240.2441187786753, 1182.2723106537812, 1143.4359183072017, 1117.5631646122433]\n",
      "[1359.2702036576693, 1322.8657131358523, 1287.1923105124824, 1234.7758306903509, 1179.5133818379702, 1157.5491601832728, 1121.1851940695126]\n"
     ]
    },
    {
     "data": {
      "text/plain": [
       "<matplotlib.legend.Legend at 0xe4b25c0>"
      ]
     },
     "execution_count": 15,
     "metadata": {},
     "output_type": "execute_result"
    }
   ],
   "source": [
    "wl = [600,620,640,660,680,700,720,]#740#760,780]\n",
    "dwl = 80\n",
    "tt = []\n",
    "\n",
    "for temp in T:\n",
    "    t = []\n",
    "    for wla in wl:\n",
    "        wlb = wla+dwl\n",
    "        s = dfs[Spcm[0]+'_'+str(temp)+'C'][0].mean(axis=1)\n",
    "        t.append(twocolortemp(wla, wlb,s))\n",
    "    plt.plot(s, label = str(temp))\n",
    "    plt.ylim(0,200)\n",
    "    print(t)\n",
    "    tt.append(t)\n",
    "plt.xlabel('Wavelength (nm)')\n",
    "plt.ylabel('Intensity (au)')\n",
    "plt.legend()"
   ]
  },
  {
   "cell_type": "code",
   "execution_count": 16,
   "metadata": {
    "collapsed": true
   },
   "outputs": [],
   "source": [
    "bbs = pd.DataFrame(tt)\n",
    "bbs.columns = wl\n",
    "bbs.index= T"
   ]
  },
  {
   "cell_type": "code",
   "execution_count": 17,
   "metadata": {
    "collapsed": true
   },
   "outputs": [],
   "source": [
    "bbs.index.name = 'Measured T'\n",
    "bbs.columns.name = 'Lower Wavelength (dl=80)'"
   ]
  },
  {
   "cell_type": "code",
   "execution_count": 18,
   "metadata": {
    "scrolled": true
   },
   "outputs": [
    {
     "data": {
      "text/html": [
       "<div>\n",
       "<style>\n",
       "    .dataframe thead tr:only-child th {\n",
       "        text-align: right;\n",
       "    }\n",
       "\n",
       "    .dataframe thead th {\n",
       "        text-align: left;\n",
       "    }\n",
       "\n",
       "    .dataframe tbody tr th {\n",
       "        vertical-align: top;\n",
       "    }\n",
       "</style>\n",
       "<table border=\"1\" class=\"dataframe\">\n",
       "  <thead>\n",
       "    <tr style=\"text-align: right;\">\n",
       "      <th>Lower Wavelength (dl=80)</th>\n",
       "      <th>600</th>\n",
       "      <th>620</th>\n",
       "      <th>640</th>\n",
       "      <th>660</th>\n",
       "      <th>680</th>\n",
       "      <th>700</th>\n",
       "      <th>720</th>\n",
       "    </tr>\n",
       "    <tr>\n",
       "      <th>Measured T</th>\n",
       "      <th></th>\n",
       "      <th></th>\n",
       "      <th></th>\n",
       "      <th></th>\n",
       "      <th></th>\n",
       "      <th></th>\n",
       "      <th></th>\n",
       "    </tr>\n",
       "  </thead>\n",
       "  <tbody>\n",
       "    <tr>\n",
       "      <th>1039</th>\n",
       "      <td>1301.510313</td>\n",
       "      <td>1222.676298</td>\n",
       "      <td>1156.467823</td>\n",
       "      <td>1153.590396</td>\n",
       "      <td>1086.789612</td>\n",
       "      <td>1046.007296</td>\n",
       "      <td>1002.054722</td>\n",
       "    </tr>\n",
       "    <tr>\n",
       "      <th>1050</th>\n",
       "      <td>1308.661352</td>\n",
       "      <td>1198.426016</td>\n",
       "      <td>1153.187707</td>\n",
       "      <td>1138.528933</td>\n",
       "      <td>1083.381858</td>\n",
       "      <td>1087.163354</td>\n",
       "      <td>1032.709166</td>\n",
       "    </tr>\n",
       "    <tr>\n",
       "      <th>1145</th>\n",
       "      <td>1340.662454</td>\n",
       "      <td>1301.224722</td>\n",
       "      <td>1258.135248</td>\n",
       "      <td>1210.132002</td>\n",
       "      <td>1161.480991</td>\n",
       "      <td>1120.956593</td>\n",
       "      <td>1097.180058</td>\n",
       "    </tr>\n",
       "    <tr>\n",
       "      <th>1180</th>\n",
       "      <td>1372.124829</td>\n",
       "      <td>1324.198306</td>\n",
       "      <td>1296.405718</td>\n",
       "      <td>1240.244119</td>\n",
       "      <td>1182.272311</td>\n",
       "      <td>1143.435918</td>\n",
       "      <td>1117.563165</td>\n",
       "    </tr>\n",
       "    <tr>\n",
       "      <th>1200</th>\n",
       "      <td>1359.270204</td>\n",
       "      <td>1322.865713</td>\n",
       "      <td>1287.192311</td>\n",
       "      <td>1234.775831</td>\n",
       "      <td>1179.513382</td>\n",
       "      <td>1157.549160</td>\n",
       "      <td>1121.185194</td>\n",
       "    </tr>\n",
       "  </tbody>\n",
       "</table>\n",
       "</div>"
      ],
      "text/plain": [
       "Lower Wavelength (dl=80)          600          620          640          660  \\\n",
       "Measured T                                                                     \n",
       "1039                      1301.510313  1222.676298  1156.467823  1153.590396   \n",
       "1050                      1308.661352  1198.426016  1153.187707  1138.528933   \n",
       "1145                      1340.662454  1301.224722  1258.135248  1210.132002   \n",
       "1180                      1372.124829  1324.198306  1296.405718  1240.244119   \n",
       "1200                      1359.270204  1322.865713  1287.192311  1234.775831   \n",
       "\n",
       "Lower Wavelength (dl=80)          680          700          720  \n",
       "Measured T                                                       \n",
       "1039                      1086.789612  1046.007296  1002.054722  \n",
       "1050                      1083.381858  1087.163354  1032.709166  \n",
       "1145                      1161.480991  1120.956593  1097.180058  \n",
       "1180                      1182.272311  1143.435918  1117.563165  \n",
       "1200                      1179.513382  1157.549160  1121.185194  "
      ]
     },
     "execution_count": 18,
     "metadata": {},
     "output_type": "execute_result"
    }
   ],
   "source": [
    "bbs"
   ]
  },
  {
   "cell_type": "code",
   "execution_count": 19,
   "metadata": {},
   "outputs": [
    {
     "data": {
      "text/plain": [
       "[1039, 1050, 1145, 1180, 1200]"
      ]
     },
     "execution_count": 19,
     "metadata": {},
     "output_type": "execute_result"
    }
   ],
   "source": [
    "T"
   ]
  },
  {
   "cell_type": "code",
   "execution_count": 20,
   "metadata": {},
   "outputs": [
    {
     "data": {
      "text/plain": [
       "array([[ 0.,  0.,  0.,  0.,  0.],\n",
       "       [ 0.,  0.,  0.,  0.,  0.],\n",
       "       [ 0.,  0.,  0.,  0.,  0.],\n",
       "       [ 0.,  0.,  0.,  0.,  0.],\n",
       "       [ 0.,  0.,  0.,  0.,  0.]])"
      ]
     },
     "execution_count": 20,
     "metadata": {},
     "output_type": "execute_result"
    }
   ],
   "source": [
    "np.zeros((5,5))"
   ]
  },
  {
   "cell_type": "code",
   "execution_count": null,
   "metadata": {
    "collapsed": true
   },
   "outputs": [],
   "source": []
  }
 ],
 "metadata": {
  "kernelspec": {
   "display_name": "Python 3",
   "language": "python",
   "name": "python3"
  },
  "language_info": {
   "codemirror_mode": {
    "name": "ipython",
    "version": 3
   },
   "file_extension": ".py",
   "mimetype": "text/x-python",
   "name": "python",
   "nbconvert_exporter": "python",
   "pygments_lexer": "ipython3",
   "version": "3.6.3"
  }
 },
 "nbformat": 4,
 "nbformat_minor": 2
}
