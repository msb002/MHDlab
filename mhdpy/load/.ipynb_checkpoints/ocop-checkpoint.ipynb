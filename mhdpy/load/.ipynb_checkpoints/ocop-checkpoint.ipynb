{
 "cells": [
  {
   "cell_type": "code",
   "execution_count": 1,
   "metadata": {},
   "outputs": [],
   "source": [
    "import numpy as np\n",
    "from nptdms import TdmsFile as TF\n",
    "import pandas as pd\n",
    "\n",
    "def ocop2df(filepath,):\n",
    "    file = TF(filepath)\n",
    "    df = file.object(file.groups()[2]).as_dataframe()\n",
    "    df.index = file.object('Global', \"Wavelength\").data\n",
    "    indexarr = list(zip(*[file.object('Global', 'MP Pos').data,file.object('Global', 'Time').data]))\n",
    "    df.columns = pd.MultiIndex.from_tuples(indexarr, names = ['MP','Wavelength'])\n",
    "    return df"
   ]
  }
 ],
 "metadata": {
  "kernelspec": {
   "display_name": "Python 3",
   "language": "python",
   "name": "python3"
  },
  "language_info": {
   "codemirror_mode": {
    "name": "ipython",
    "version": 3
   },
   "file_extension": ".py",
   "mimetype": "text/x-python",
   "name": "python",
   "nbconvert_exporter": "python",
   "pygments_lexer": "ipython3",
   "version": "3.7.0"
  }
 },
 "nbformat": 4,
 "nbformat_minor": 2
}
