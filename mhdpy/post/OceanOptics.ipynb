{
 "cells": [
  {
   "cell_type": "code",
   "execution_count": 11,
   "metadata": {},
   "outputs": [],
   "source": [
    "from __future__ import unicode_literals\n",
    "from _tools import _cut_channel, _cut_datetime_channel\n",
    "from nptdms import TdmsFile as TF\n",
    "from nptdms import TdmsWriter, RootObject\n",
    "import os\n",
    "\n",
    "def multiplex_spectra(fileinpaths, mpchannel, **kwargs):\n",
    "    \"\"\"\n",
    "    Seperates the spectra into 'on' and  'off' channels, on being where the multiplexer is reading that spectrometer.\n",
    "    \n",
    "    If the MP channel is not the spectrometer's channel, it will not use that data\n",
    "    \n",
    "    \"\"\"\n",
    "\n",
    "def cut_log_spectra(fileinpaths, times, fileoutpaths_list, **kwargs):\n",
    "    for i, fileinpath in enumerate(fileinpaths):\n",
    "        fileoutpaths = fileoutpaths_list[i]\n",
    "        tdmsfile = TF(fileinpath)\n",
    "        for j, t in enumerate(times):\n",
    "            fileoutpath = fileoutpaths[j]\n",
    "            \n",
    "            direc = os.path.split(fileoutpath)[0]\n",
    "            if not os.path.exists(direc):\n",
    "                os.makedirs(direc)\n",
    "            \n",
    "            root_object = RootObject(properties = {})\n",
    "            \n",
    "            try:\n",
    "                with TdmsWriter(fileoutpath, mode='w') as tdmswriter:\n",
    "                    for group in tdmsfile.groups().remove('Global'):\n",
    "                        idx1, idx2 = _get_indextime(timedate, t[0], t[1])\n",
    "                        for channel in file.group_channels(group)[idx1, idx2]:\n",
    "                            tdms_writer.write_segment([root_object, channel])\n",
    "                    for channel in tdmsfile.group_channels('Global'):\n",
    "                        if channel.channel == 'Wavelength':\n",
    "                            channel_object = channel\n",
    "                        else:\n",
    "                            channel_object = _cut_channel(channel,time[0],time[1],timedata=None)\n",
    "                        tdms_writer.write_segment([\n",
    "                            root_object,\n",
    "                            channel_object\n",
    "                        ])\n",
    "            except ValueError as error:\n",
    "                print(error)\n",
    "                print('removing the file at: \\n', fileoutpath)\n",
    "                os.remove(fileoutpath)\n",
    "        \n"
   ]
  },
  {
   "cell_type": "code",
   "execution_count": 7,
   "metadata": {},
   "outputs": [],
   "source": [
    "import numpy as np"
   ]
  },
  {
   "cell_type": "code",
   "execution_count": 75,
   "metadata": {},
   "outputs": [
    {
     "name": "stdout",
     "output_type": "stream",
     "text": [
      "[0, 2, 3]\n"
     ]
    }
   ],
   "source": [
    "a = [0,1,2,3]\n",
    "a.remove(1)\n",
    "print(a)"
   ]
  },
  {
   "cell_type": "code",
   "execution_count": 12,
   "metadata": {},
   "outputs": [],
   "source": [
    "file = TF('Z:\\\\Test Data\\\\Raw Data\\\\Materials Testing\\\\2018-10-15\\\\UnspecifiedProj\\\\Measure\\\\Flame_1039C.tdms')"
   ]
  },
  {
   "cell_type": "code",
   "execution_count": 49,
   "metadata": {},
   "outputs": [],
   "source": [
    "time = np.array(file.object('Global', 'Time').data)\n",
    "raw = file.group_channels('Vis_Raw')\n",
    "raw_names = [rawchannel.channel for rawchannel in raw]"
   ]
  },
  {
   "cell_type": "code",
   "execution_count": 56,
   "metadata": {},
   "outputs": [],
   "source": [
    "idx1 = np.where(time == time[37])[0][0]\n",
    "idx2 = np.where(time == time[97])"
   ]
  },
  {
   "cell_type": "code",
   "execution_count": 57,
   "metadata": {},
   "outputs": [
    {
     "ename": "TypeError",
     "evalue": "only integer scalar arrays can be converted to a scalar index",
     "output_type": "error",
     "traceback": [
      "\u001b[1;31m---------------------------------------------------------------------------\u001b[0m",
      "\u001b[1;31mTypeError\u001b[0m                                 Traceback (most recent call last)",
      "\u001b[1;32m<ipython-input-57-8755d339e683>\u001b[0m in \u001b[0;36m<module>\u001b[1;34m()\u001b[0m\n\u001b[1;32m----> 1\u001b[1;33m \u001b[0mraw\u001b[0m\u001b[1;33m[\u001b[0m\u001b[0midx1\u001b[0m\u001b[1;33m:\u001b[0m\u001b[0midx2\u001b[0m\u001b[1;33m]\u001b[0m\u001b[1;33m\u001b[0m\u001b[0m\n\u001b[0m",
      "\u001b[1;31mTypeError\u001b[0m: only integer scalar arrays can be converted to a scalar index"
     ]
    }
   ],
   "source": [
    "raw[idx1:idx2]"
   ]
  },
  {
   "cell_type": "code",
   "execution_count": 58,
   "metadata": {},
   "outputs": [
    {
     "data": {
      "text/plain": [
       "array([37], dtype=int64)"
      ]
     },
     "execution_count": 58,
     "metadata": {},
     "output_type": "execute_result"
    }
   ],
   "source": [
    "idx1"
   ]
  },
  {
   "cell_type": "code",
   "execution_count": 48,
   "metadata": {},
   "outputs": [
    {
     "data": {
      "text/plain": [
       "list"
      ]
     },
     "execution_count": 48,
     "metadata": {},
     "output_type": "execute_result"
    }
   ],
   "source": [
    "type(time)"
   ]
  },
  {
   "cell_type": "code",
   "execution_count": 69,
   "metadata": {},
   "outputs": [
    {
     "data": {
      "text/plain": [
       "[<TdmsObject with path /'Vis_Raw'/'Acquisition_37'>,\n",
       " <TdmsObject with path /'Vis_Raw'/'Acquisition_38'>,\n",
       " <TdmsObject with path /'Vis_Raw'/'Acquisition_39'>,\n",
       " <TdmsObject with path /'Vis_Raw'/'Acquisition_40'>,\n",
       " <TdmsObject with path /'Vis_Raw'/'Acquisition_41'>,\n",
       " <TdmsObject with path /'Vis_Raw'/'Acquisition_42'>,\n",
       " <TdmsObject with path /'Vis_Raw'/'Acquisition_43'>,\n",
       " <TdmsObject with path /'Vis_Raw'/'Acquisition_44'>,\n",
       " <TdmsObject with path /'Vis_Raw'/'Acquisition_45'>,\n",
       " <TdmsObject with path /'Vis_Raw'/'Acquisition_46'>,\n",
       " <TdmsObject with path /'Vis_Raw'/'Acquisition_47'>,\n",
       " <TdmsObject with path /'Vis_Raw'/'Acquisition_48'>,\n",
       " <TdmsObject with path /'Vis_Raw'/'Acquisition_49'>,\n",
       " <TdmsObject with path /'Vis_Raw'/'Acquisition_50'>,\n",
       " <TdmsObject with path /'Vis_Raw'/'Acquisition_51'>,\n",
       " <TdmsObject with path /'Vis_Raw'/'Acquisition_52'>,\n",
       " <TdmsObject with path /'Vis_Raw'/'Acquisition_53'>,\n",
       " <TdmsObject with path /'Vis_Raw'/'Acquisition_54'>,\n",
       " <TdmsObject with path /'Vis_Raw'/'Acquisition_55'>,\n",
       " <TdmsObject with path /'Vis_Raw'/'Acquisition_56'>,\n",
       " <TdmsObject with path /'Vis_Raw'/'Acquisition_57'>,\n",
       " <TdmsObject with path /'Vis_Raw'/'Acquisition_58'>,\n",
       " <TdmsObject with path /'Vis_Raw'/'Acquisition_59'>,\n",
       " <TdmsObject with path /'Vis_Raw'/'Acquisition_60'>,\n",
       " <TdmsObject with path /'Vis_Raw'/'Acquisition_61'>,\n",
       " <TdmsObject with path /'Vis_Raw'/'Acquisition_62'>,\n",
       " <TdmsObject with path /'Vis_Raw'/'Acquisition_63'>,\n",
       " <TdmsObject with path /'Vis_Raw'/'Acquisition_64'>,\n",
       " <TdmsObject with path /'Vis_Raw'/'Acquisition_65'>,\n",
       " <TdmsObject with path /'Vis_Raw'/'Acquisition_66'>,\n",
       " <TdmsObject with path /'Vis_Raw'/'Acquisition_67'>,\n",
       " <TdmsObject with path /'Vis_Raw'/'Acquisition_68'>,\n",
       " <TdmsObject with path /'Vis_Raw'/'Acquisition_69'>,\n",
       " <TdmsObject with path /'Vis_Raw'/'Acquisition_70'>,\n",
       " <TdmsObject with path /'Vis_Raw'/'Acquisition_71'>,\n",
       " <TdmsObject with path /'Vis_Raw'/'Acquisition_72'>,\n",
       " <TdmsObject with path /'Vis_Raw'/'Acquisition_73'>,\n",
       " <TdmsObject with path /'Vis_Raw'/'Acquisition_74'>,\n",
       " <TdmsObject with path /'Vis_Raw'/'Acquisition_75'>,\n",
       " <TdmsObject with path /'Vis_Raw'/'Acquisition_76'>,\n",
       " <TdmsObject with path /'Vis_Raw'/'Acquisition_77'>,\n",
       " <TdmsObject with path /'Vis_Raw'/'Acquisition_78'>,\n",
       " <TdmsObject with path /'Vis_Raw'/'Acquisition_79'>,\n",
       " <TdmsObject with path /'Vis_Raw'/'Acquisition_80'>,\n",
       " <TdmsObject with path /'Vis_Raw'/'Acquisition_81'>,\n",
       " <TdmsObject with path /'Vis_Raw'/'Acquisition_82'>,\n",
       " <TdmsObject with path /'Vis_Raw'/'Acquisition_83'>,\n",
       " <TdmsObject with path /'Vis_Raw'/'Acquisition_84'>,\n",
       " <TdmsObject with path /'Vis_Raw'/'Acquisition_85'>,\n",
       " <TdmsObject with path /'Vis_Raw'/'Acquisition_86'>,\n",
       " <TdmsObject with path /'Vis_Raw'/'Acquisition_87'>,\n",
       " <TdmsObject with path /'Vis_Raw'/'Acquisition_88'>]"
      ]
     },
     "execution_count": 69,
     "metadata": {},
     "output_type": "execute_result"
    }
   ],
   "source": [
    "file.group_channels(file.groups()[1])[37:89]"
   ]
  },
  {
   "cell_type": "code",
   "execution_count": 64,
   "metadata": {},
   "outputs": [
    {
     "data": {
      "text/plain": [
       "[<TdmsObject with path /'Global'/'Wavelength'>,\n",
       " <TdmsObject with path /'Global'/'Time'>,\n",
       " <TdmsObject with path /'Global'/'MP Pos'>]"
      ]
     },
     "execution_count": 64,
     "metadata": {},
     "output_type": "execute_result"
    }
   ],
   "source": [
    "file.group_channels(group)"
   ]
  },
  {
   "cell_type": "code",
   "execution_count": null,
   "metadata": {},
   "outputs": [],
   "source": []
  }
 ],
 "metadata": {
  "kernelspec": {
   "display_name": "Python 3",
   "language": "python",
   "name": "python3"
  },
  "language_info": {
   "codemirror_mode": {
    "name": "ipython",
    "version": 3
   },
   "file_extension": ".py",
   "mimetype": "text/x-python",
   "name": "python",
   "nbconvert_exporter": "python",
   "pygments_lexer": "ipython3",
   "version": "3.6.4"
  }
 },
 "nbformat": 4,
 "nbformat_minor": 2
}
