{
 "cells": [
  {
   "cell_type": "code",
   "execution_count": 18,
   "metadata": {},
   "outputs": [],
   "source": [
    "#Heat capacity of Water (J/KgC)\n",
    "C_w = 4186\n",
    "\n",
    "#Density of water (Kg/L)\n",
    "rho_w = 1/1000\n",
    "\n",
    "#Standard Temperature of Alicats (K)\n",
    "Ts = 298.15\n",
    "\n",
    "#Standard Pressure of Alicats (PSI)\n",
    "Ps = 14.696\n",
    "\n",
    "#Density of Oxygen from Ideal Gas Law (g/L)\n",
    "rho_O = 32/22.4\n",
    "\n",
    "#Density of Kerosene (kg/m^3)\n",
    "rho_kero = 814.8\n",
    "\n",
    "#Heat/mass of kerosene (KJ/g)\n",
    "Q_kero = 64\n",
    "\n",
    "#Stoichiometric Ratio \n",
    "stoich = 170/592\n",
    "\n",
    "def HVOF_Calc(arr):\n",
    "    Fl_fuel, Fl_w, T_in, T_out, m_dot_O = arr\n",
    "    \n",
    "    #Phi Calculation: mass flow is calculated in g/min\n",
    "    m_dot_fuel = Fl_fuel * rho_kero\n",
    "    phi = (m_dot_fuel/m_dot_O)/stoich\n",
    "    \n",
    "    #Heat Calculations\n",
    "    Q_w = (T_out-T_in)*C_w*Fl_w*rho_w * (1/60) #1min/60seconds\n",
    "    \n",
    "    Q_fuel = m_dot_fuel*rho_kero * (1/60) #1min/60seconds\n",
    "    \n",
    "    return [phi, Q_w, Q_fuel]\n",
    "    \n",
    "    \n",
    "\n"
   ]
  },
  {
   "cell_type": "code",
   "execution_count": 20,
   "metadata": {},
   "outputs": [
    {
     "data": {
      "text/plain": [
       "[1.1425857086458744, 32.6508, 2655.5961599999996]"
      ]
     },
     "execution_count": 20,
     "metadata": {},
     "output_type": "execute_result"
    }
   ],
   "source": [
    "import numpy as np\n",
    "HVOF_Calc(np.array([.24,36,18,31,596]))"
   ]
  },
  {
   "cell_type": "code",
   "execution_count": 15,
   "metadata": {},
   "outputs": [
    {
     "data": {
      "text/plain": [
       "14.399999999999999"
      ]
     },
     "execution_count": 15,
     "metadata": {},
     "output_type": "execute_result"
    }
   ],
   "source": [
    ".24*60"
   ]
  },
  {
   "cell_type": "code",
   "execution_count": null,
   "metadata": {},
   "outputs": [],
   "source": []
  }
 ],
 "metadata": {
  "kernelspec": {
   "display_name": "Python 3",
   "language": "python",
   "name": "python3"
  },
  "language_info": {
   "codemirror_mode": {
    "name": "ipython",
    "version": 3
   },
   "file_extension": ".py",
   "mimetype": "text/x-python",
   "name": "python",
   "nbconvert_exporter": "python",
   "pygments_lexer": "ipython3",
   "version": "3.7.0"
  }
 },
 "nbformat": 4,
 "nbformat_minor": 2
}
